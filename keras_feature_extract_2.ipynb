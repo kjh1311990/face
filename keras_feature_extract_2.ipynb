{
  "nbformat": 4,
  "nbformat_minor": 0,
  "metadata": {
    "colab": {
      "name": "keras_feature_extract_2.ipynb",
      "provenance": [],
      "authorship_tag": "ABX9TyPQABN5MdCQkTnJb3JgrBtU",
      "include_colab_link": true
    },
    "kernelspec": {
      "display_name": "Python 3",
      "name": "python3"
    }
  },
  "cells": [
    {
      "cell_type": "markdown",
      "metadata": {
        "id": "view-in-github",
        "colab_type": "text"
      },
      "source": [
        "<a href=\"https://colab.research.google.com/github/kjh1311990/face/blob/main/keras_feature_extract_2.ipynb\" target=\"_parent\"><img src=\"https://colab.research.google.com/assets/colab-badge.svg\" alt=\"Open In Colab\"/></a>"
      ]
    },
    {
      "cell_type": "code",
      "metadata": {
        "id": "oq7FSZmygVpa",
        "colab": {
          "base_uri": "https://localhost:8080/"
        },
        "outputId": "8b86a4fb-5f8f-4c63-f2ad-489c61d846dc"
      },
      "source": [
        "from google.colab import drive\n",
        "drive.mount('/gdrive')"
      ],
      "execution_count": 1,
      "outputs": [
        {
          "output_type": "stream",
          "text": [
            "Mounted at /gdrive\n"
          ],
          "name": "stdout"
        }
      ]
    },
    {
      "cell_type": "code",
      "metadata": {
        "id": "rgtvIaBc9_0K"
      },
      "source": [
        "from PIL import Image\n",
        "import numpy as np\n",
        "import cv2, math\n",
        "face_detector = cv2.CascadeClassifier('/gdrive/My Drive/Notebooks/haarcascade_frontalface_default.xml')\n",
        "eye_detector = cv2.CascadeClassifier('/gdrive/My Drive/Notebooks/haarcascade_eye.xml')\n",
        "\n",
        "#face_detector = cv2.CascadeClassifier('haarcascade_frontalface_default.xml')\n",
        "#eye_detector = cv2.CascadeClassifier('haarcascade_eye.xml')\n",
        "\n",
        "def euclidean_distance(a, b):\n",
        "    x1 = a[0]; y1 = a[1]\n",
        "    x2 = b[0]; y2 = b[1]\n",
        "    \n",
        "    return math.sqrt(((x2 - x1) * (x2 - x1)) + ((y2 - y1) * (y2 - y1)))"
      ],
      "execution_count": 15,
      "outputs": []
    },
    {
      "cell_type": "code",
      "metadata": {
        "id": "T3KMM7w-gbiU"
      },
      "source": [
        "from keras.models import load_model\n",
        "from keras.models import Model\n",
        "\n",
        "# 모델 로딩\n",
        "model = load_model('/gdrive/My Drive/Notebooks/weights.h5')"
      ],
      "execution_count": 16,
      "outputs": []
    },
    {
      "cell_type": "code",
      "metadata": {
        "id": "eahzhGczlWQQ"
      },
      "source": [
        "model2 = Model(model.input, model.layers[-2].output)"
      ],
      "execution_count": 17,
      "outputs": []
    },
    {
      "cell_type": "code",
      "metadata": {
        "id": "2IeShUxfjWtX"
      },
      "source": [
        "from keras.preprocessing.image import load_img\n",
        "from keras.preprocessing.image import img_to_array\n",
        "from keras.applications import resnet50\n",
        "\n",
        "img1 = load_img('/gdrive/My Drive/Notebooks/face/face1.jpg', target_size=(224,224))\n",
        "img1 = img_to_array(img1)\n",
        "img1 = img1.reshape((1, 224, 224, 3))\n",
        "img1 = resnet50.preprocess_input(img1)\n",
        "\n",
        "img2 = load_img('/gdrive/My Drive/Notebooks/face/face2.jpg', target_size=(224,224))\n",
        "img2 = img_to_array(img2)\n",
        "img2 = img2.reshape((1, 224, 224, 3))\n",
        "img2 = resnet50.preprocess_input(img2)"
      ],
      "execution_count": 20,
      "outputs": []
    },
    {
      "cell_type": "code",
      "metadata": {
        "id": "51c7zRYokCOq"
      },
      "source": [
        " y1 = model2.predict(img1)\n",
        " y2 = model2.predict(img2)"
      ],
      "execution_count": 21,
      "outputs": []
    },
    {
      "cell_type": "code",
      "metadata": {
        "colab": {
          "base_uri": "https://localhost:8080/"
        },
        "id": "um91KYnI9C58",
        "outputId": "161a5c27-d3ef-425a-a178-d89765b64f14"
      },
      "source": [
        "y1.astype(int)"
      ],
      "execution_count": 22,
      "outputs": [
        {
          "output_type": "execute_result",
          "data": {
            "text/plain": [
              "array([[ 1,  0,  0,  0,  0,  3,  6,  0,  0,  0,  0,  2,  1,  0,  0,  5,\n",
              "         5,  0,  0,  0,  4,  0,  1,  2,  6,  0,  0,  0,  0,  1,  7,  0,\n",
              "         2,  1,  0,  0,  3,  0,  1,  0,  5,  1,  1,  1,  0,  0,  0,  1,\n",
              "         3,  0,  1,  2,  0,  0,  4,  1,  0,  0,  0,  0,  2,  0,  0,  0,\n",
              "         0,  0,  0,  4,  5,  1,  0,  1,  2,  0,  2,  0,  0,  5,  0,  1,\n",
              "         7,  0,  5,  7,  4,  3,  0,  5,  0,  0,  3,  0,  0,  1,  2,  0,\n",
              "         0,  0,  0,  2,  0,  0,  1,  0,  0,  0,  1,  0,  0,  0,  4,  0,\n",
              "         0,  1,  6,  0,  1,  1,  2,  2,  2,  6,  0,  1,  5,  0,  4,  3,\n",
              "         0,  8,  0, 10,  9,  4,  2,  6,  1,  0,  0,  0,  2,  1,  2,  0,\n",
              "         2,  0,  5,  0,  0,  3,  0,  4,  0,  0,  0,  0,  0,  5, 12,  0,\n",
              "         0,  0,  1,  3,  0,  0,  2,  0,  5,  3,  0,  4,  0,  2,  3,  6,\n",
              "         0,  4,  4,  0,  0,  5,  2,  0,  4,  0,  3,  0,  0,  0,  0,  0,\n",
              "         0,  0,  0,  0,  4,  7,  0,  0,  0,  4,  0,  3,  3,  4,  3,  0,\n",
              "         0,  0,  4,  3,  0,  0,  0,  0,  4,  0,  0,  0,  3,  3,  0,  0,\n",
              "         0,  0,  0,  0,  0,  7,  0,  3,  2,  0,  0,  1,  2,  1,  4,  4,\n",
              "         5,  5,  3,  2,  3,  5,  0,  0,  0,  0,  1,  0,  0,  2,  0,  0,\n",
              "         0,  2,  0,  2,  2,  0,  1,  0,  0,  2,  0,  3,  2,  0,  0,  3,\n",
              "         0,  0,  0,  1,  1,  3,  1,  0,  0,  2,  3,  0,  1,  0,  0,  0,\n",
              "         0,  0,  1,  0,  2,  2,  3,  0,  3,  1,  2,  0,  9,  0,  0,  1,\n",
              "         0,  0,  1,  0,  7,  0,  0,  0,  0,  1,  9,  3,  0,  4,  5,  0,\n",
              "         2,  0,  0,  0,  0,  0,  1,  4,  2,  7, 11,  5,  4,  0,  0,  0,\n",
              "         5,  4,  3,  0,  2,  0,  0,  0,  0,  6,  0,  0,  0,  0,  3,  0,\n",
              "         0,  6, 12,  0,  0,  0,  0,  0,  6,  0,  0,  0,  0,  0,  8,  1,\n",
              "         2,  2,  3,  0,  0,  0,  2,  3,  0,  0,  0,  3,  5,  0,  1,  0,\n",
              "         2,  7,  0,  2,  0,  0,  0,  0,  0,  0,  0,  1,  1,  2,  3,  4,\n",
              "         0,  0,  0,  1,  0,  0,  0,  0,  0,  3,  0,  2,  2,  0,  6,  0,\n",
              "         0,  0,  0,  0,  1,  2,  1,  0,  4,  5,  3,  3,  0,  4,  0,  0,\n",
              "         0,  0,  7,  5,  0,  0,  0,  1,  0,  0,  0,  0,  0,  0,  0, 10,\n",
              "         1,  0,  3,  0,  7,  0,  0,  6,  0,  0,  0,  0,  0,  0,  0,  1,\n",
              "         1,  1,  1,  0,  0,  0,  0,  3,  0,  0,  0,  0,  2,  6,  5,  0,\n",
              "         6,  6,  0,  3,  3,  8,  0,  0,  1,  0,  0,  7,  0,  6,  1,  0,\n",
              "         0,  0,  0,  7,  7,  0,  0,  3,  0,  0,  5,  0,  0,  7,  0,  0]])"
            ]
          },
          "metadata": {
            "tags": []
          },
          "execution_count": 22
        }
      ]
    },
    {
      "cell_type": "code",
      "metadata": {
        "colab": {
          "base_uri": "https://localhost:8080/"
        },
        "id": "RZvd-18i9MX3",
        "outputId": "68f722a9-6820-4203-e78d-06c8ce4bf753"
      },
      "source": [
        "y2.astype(int)"
      ],
      "execution_count": 23,
      "outputs": [
        {
          "output_type": "execute_result",
          "data": {
            "text/plain": [
              "array([[ 1,  0,  0,  2,  0,  5,  3,  0,  0,  0,  0,  3,  1,  1,  4,  7,\n",
              "         7,  0,  1,  0,  2,  0,  2,  0,  9,  2,  0,  0,  0,  0,  8,  0,\n",
              "         4,  1,  0,  3,  2,  0,  3,  0,  9,  0,  5,  2,  0,  0,  0,  3,\n",
              "         5,  1,  2,  1,  0,  1,  1,  3,  0,  0,  0,  4,  2,  0,  3,  1,\n",
              "         0,  0,  0,  6,  6,  4,  1,  2,  4,  1,  2,  3,  0,  3,  0,  0,\n",
              "         5,  0,  7,  8,  2,  5,  1,  6,  0,  2,  5,  0,  0,  0,  3,  0,\n",
              "         0,  0,  0,  3,  2,  0,  0,  0,  5,  0,  2,  0,  0,  0,  3,  0,\n",
              "         0,  0,  4,  0,  0,  2,  1,  0,  0,  4,  0,  1,  4,  0,  0,  5,\n",
              "         0,  4,  0,  6,  9,  3,  0,  2,  0,  0,  0,  0,  0,  0,  4,  0,\n",
              "         4,  0,  0,  0,  0,  5,  0,  2,  0,  0,  0,  0,  0,  2, 10,  2,\n",
              "         1,  0,  0,  4,  3,  0,  0,  1,  4,  4,  2,  2,  0,  2,  1,  6,\n",
              "         0,  5,  4,  0,  0,  5,  3,  0,  1,  0,  6,  0,  0,  0,  0,  0,\n",
              "         0,  0,  0,  0,  0,  4,  0,  0,  0,  0,  0,  5,  3,  0,  1,  0,\n",
              "         0,  0,  2,  1,  0,  5,  0,  0,  2,  0,  0,  1,  5,  3,  0,  0,\n",
              "         0,  0,  1,  0,  1,  5,  0,  0,  0,  0,  0,  0,  4,  3,  3,  4,\n",
              "         6,  4,  0,  0,  1,  7,  0,  0,  0,  0,  1,  0,  0,  4,  1,  0,\n",
              "         0,  0,  0,  0,  4,  0,  0,  0,  0,  3,  0,  1,  0,  0,  0,  2,\n",
              "         0,  0,  0,  0,  0,  2,  1,  0,  0,  1,  2,  0,  4,  0,  0,  6,\n",
              "         0,  0,  1,  0,  4,  2,  3,  0,  0,  0,  7,  0, 10,  0,  1,  0,\n",
              "         0,  0,  0,  0,  5,  0,  0,  0,  3,  1,  8,  0,  0,  3,  0,  0,\n",
              "         0,  0,  0,  0,  0,  0,  1,  5,  4,  6, 12,  5,  2,  0,  0,  0,\n",
              "         6,  0,  3,  0,  0,  2,  1,  0,  0,  8,  2,  1,  0,  0,  3,  0,\n",
              "         2,  8, 15,  4,  0,  0,  0,  1,  5,  0,  5,  0,  0,  0,  6,  0,\n",
              "         2,  1,  0,  0,  0,  0,  4,  3,  1,  2,  7,  6,  3,  0,  0,  0,\n",
              "         0,  2,  2,  2,  0,  0,  2,  0,  0,  1,  0,  0,  1,  1,  5,  6,\n",
              "         0,  0,  0,  0,  0,  0,  0,  0,  0,  3,  3,  2,  0,  0,  1,  3,\n",
              "         0,  0,  0,  0,  3,  4,  0,  0,  3,  3,  5,  3,  0,  1,  0,  0,\n",
              "         0,  0, 11,  5,  0,  0,  0,  0,  0,  0,  1,  0,  0,  0,  0,  7,\n",
              "         1,  0,  5,  1,  9,  2,  0,  3,  0,  0,  3,  0,  2,  0,  1,  1,\n",
              "         1,  0,  0,  0,  0,  2,  0,  2,  0,  0,  0,  0,  1,  7,  4,  0,\n",
              "         6,  4,  0,  2,  5,  9,  0,  0,  1,  0,  0,  8,  0,  4,  0,  0,\n",
              "         0,  2,  0,  4,  3,  0,  0,  3,  3,  0,  6,  2,  0,  6,  0,  0]])"
            ]
          },
          "metadata": {
            "tags": []
          },
          "execution_count": 23
        }
      ]
    },
    {
      "cell_type": "code",
      "metadata": {
        "colab": {
          "base_uri": "https://localhost:8080/"
        },
        "id": "wISOvg7b9MzZ",
        "outputId": "4793f081-96fe-4f74-d281-553753a8fe2d"
      },
      "source": [
        "import numpy\n",
        "\n",
        "numpy.linalg.norm(y1-y2)"
      ],
      "execution_count": 24,
      "outputs": [
        {
          "output_type": "execute_result",
          "data": {
            "text/plain": [
              "37.644283"
            ]
          },
          "metadata": {
            "tags": []
          },
          "execution_count": 24
        }
      ]
    },
    {
      "cell_type": "code",
      "metadata": {
        "colab": {
          "base_uri": "https://localhost:8080/"
        },
        "id": "mtJRoSME9V7r",
        "outputId": "5b8a48aa-0778-482e-cbdc-cd70bde5db9e"
      },
      "source": [
        "y1.astype(int)-y2.astype(int)"
      ],
      "execution_count": 25,
      "outputs": [
        {
          "output_type": "execute_result",
          "data": {
            "text/plain": [
              "array([[ 0,  0,  0, -2,  0, -2,  3,  0,  0,  0,  0, -1,  0, -1, -4, -2,\n",
              "        -2,  0, -1,  0,  2,  0, -1,  2, -3, -2,  0,  0,  0,  1, -1,  0,\n",
              "        -2,  0,  0, -3,  1,  0, -2,  0, -4,  1, -4, -1,  0,  0,  0, -2,\n",
              "        -2, -1, -1,  1,  0, -1,  3, -2,  0,  0,  0, -4,  0,  0, -3, -1,\n",
              "         0,  0,  0, -2, -1, -3, -1, -1, -2, -1,  0, -3,  0,  2,  0,  1,\n",
              "         2,  0, -2, -1,  2, -2, -1, -1,  0, -2, -2,  0,  0,  1, -1,  0,\n",
              "         0,  0,  0, -1, -2,  0,  1,  0, -5,  0, -1,  0,  0,  0,  1,  0,\n",
              "         0,  1,  2,  0,  1, -1,  1,  2,  2,  2,  0,  0,  1,  0,  4, -2,\n",
              "         0,  4,  0,  4,  0,  1,  2,  4,  1,  0,  0,  0,  2,  1, -2,  0,\n",
              "        -2,  0,  5,  0,  0, -2,  0,  2,  0,  0,  0,  0,  0,  3,  2, -2,\n",
              "        -1,  0,  1, -1, -3,  0,  2, -1,  1, -1, -2,  2,  0,  0,  2,  0,\n",
              "         0, -1,  0,  0,  0,  0, -1,  0,  3,  0, -3,  0,  0,  0,  0,  0,\n",
              "         0,  0,  0,  0,  4,  3,  0,  0,  0,  4,  0, -2,  0,  4,  2,  0,\n",
              "         0,  0,  2,  2,  0, -5,  0,  0,  2,  0,  0, -1, -2,  0,  0,  0,\n",
              "         0,  0, -1,  0, -1,  2,  0,  3,  2,  0,  0,  1, -2, -2,  1,  0,\n",
              "        -1,  1,  3,  2,  2, -2,  0,  0,  0,  0,  0,  0,  0, -2, -1,  0,\n",
              "         0,  2,  0,  2, -2,  0,  1,  0,  0, -1,  0,  2,  2,  0,  0,  1,\n",
              "         0,  0,  0,  1,  1,  1,  0,  0,  0,  1,  1,  0, -3,  0,  0, -6,\n",
              "         0,  0,  0,  0, -2,  0,  0,  0,  3,  1, -5,  0, -1,  0, -1,  1,\n",
              "         0,  0,  1,  0,  2,  0,  0,  0, -3,  0,  1,  3,  0,  1,  5,  0,\n",
              "         2,  0,  0,  0,  0,  0,  0, -1, -2,  1, -1,  0,  2,  0,  0,  0,\n",
              "        -1,  4,  0,  0,  2, -2, -1,  0,  0, -2, -2, -1,  0,  0,  0,  0,\n",
              "        -2, -2, -3, -4,  0,  0,  0, -1,  1,  0, -5,  0,  0,  0,  2,  1,\n",
              "         0,  1,  3,  0,  0,  0, -2,  0, -1, -2, -7, -3,  2,  0,  1,  0,\n",
              "         2,  5, -2,  0,  0,  0, -2,  0,  0, -1,  0,  1,  0,  1, -2, -2,\n",
              "         0,  0,  0,  1,  0,  0,  0,  0,  0,  0, -3,  0,  2,  0,  5, -3,\n",
              "         0,  0,  0,  0, -2, -2,  1,  0,  1,  2, -2,  0,  0,  3,  0,  0,\n",
              "         0,  0, -4,  0,  0,  0,  0,  1,  0,  0, -1,  0,  0,  0,  0,  3,\n",
              "         0,  0, -2, -1, -2, -2,  0,  3,  0,  0, -3,  0, -2,  0, -1,  0,\n",
              "         0,  1,  1,  0,  0, -2,  0,  1,  0,  0,  0,  0,  1, -1,  1,  0,\n",
              "         0,  2,  0,  1, -2, -1,  0,  0,  0,  0,  0, -1,  0,  2,  1,  0,\n",
              "         0, -2,  0,  3,  4,  0,  0,  0, -3,  0, -1, -2,  0,  1,  0,  0]])"
            ]
          },
          "metadata": {
            "tags": []
          },
          "execution_count": 25
        }
      ]
    }
  ]
}