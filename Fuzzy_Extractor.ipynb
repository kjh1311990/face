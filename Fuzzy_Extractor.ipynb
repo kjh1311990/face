{
  "nbformat": 4,
  "nbformat_minor": 0,
  "metadata": {
    "kernelspec": {
      "display_name": "Python 3",
      "language": "python",
      "name": "python3"
    },
    "language_info": {
      "codemirror_mode": {
        "name": "ipython",
        "version": 3
      },
      "file_extension": ".py",
      "mimetype": "text/x-python",
      "name": "python",
      "nbconvert_exporter": "python",
      "pygments_lexer": "ipython3",
      "version": "3.6.8"
    },
    "colab": {
      "name": "Fuzzy Extractor.ipynb",
      "provenance": [],
      "include_colab_link": true
    }
  },
  "cells": [
    {
      "cell_type": "markdown",
      "metadata": {
        "id": "view-in-github",
        "colab_type": "text"
      },
      "source": [
        "<a href=\"https://colab.research.google.com/github/kjh1311990/face/blob/main/Fuzzy_Extractor.ipynb\" target=\"_parent\"><img src=\"https://colab.research.google.com/assets/colab-badge.svg\" alt=\"Open In Colab\"/></a>"
      ]
    },
    {
      "cell_type": "code",
      "metadata": {
        "id": "dVgvVme-XNKI",
        "colab": {
          "base_uri": "https://localhost:8080/"
        },
        "outputId": "cbe68433-e0a7-4a77-c83d-7af30c0795e2"
      },
      "source": [
        "from google.colab import drive\n",
        "drive.mount('/content/drive')\n",
        "\n",
        "!pip install komm"
      ],
      "execution_count": 203,
      "outputs": [
        {
          "output_type": "stream",
          "text": [
            "Drive already mounted at /content/drive; to attempt to forcibly remount, call drive.mount(\"/content/drive\", force_remount=True).\n",
            "Requirement already satisfied: komm in /usr/local/lib/python3.6/dist-packages (0.7.1)\n",
            "Requirement already satisfied: numpy in /usr/local/lib/python3.6/dist-packages (from komm) (1.18.5)\n",
            "Requirement already satisfied: scipy in /usr/local/lib/python3.6/dist-packages (from komm) (1.4.1)\n"
          ],
          "name": "stdout"
        }
      ]
    },
    {
      "cell_type": "code",
      "metadata": {
        "id": "G_TyA1SvyOGK"
      },
      "source": [
        "import komm\n",
        "import numpy as np\n",
        "code = komm.BCHCode(11,365)"
      ],
      "execution_count": 204,
      "outputs": []
    },
    {
      "cell_type": "code",
      "metadata": {
        "id": "MAi06PmTyJ0D"
      },
      "source": [
        "import numpy as np\n",
        "\n",
        "PARAMS_M = 2047\n",
        "PARAMS_N = 512\n",
        "\n",
        "PARAMS_LOGQ = 10\n",
        "PARAMS_LOGL = 6\n",
        "\n",
        "PARAMS_Q = 1 << PARAMS_LOGQ\n",
        "PARAMS_L = 1 << PARAMS_LOGL"
      ],
      "execution_count": 205,
      "outputs": []
    },
    {
      "cell_type": "code",
      "metadata": {
        "id": "zWBXNiiaXNKJ"
      },
      "source": [
        "def EMBLEM_Encode(m, shift):\n",
        "    encm = ((m << 1) + 1) << (shift - 1);\n",
        "    return encm.reshape(PARAMS_M, 1);\n",
        "\n",
        "def EMBLEM_Decode(m, shift):\n",
        "    decm = m >> shift;\n",
        "    return decm.reshape(PARAMS_M, 1);"
      ],
      "execution_count": 206,
      "outputs": []
    },
    {
      "cell_type": "code",
      "metadata": {
        "id": "2p5RL0T69Zry"
      },
      "source": [
        "from keras.models import load_model\n",
        "from keras.models import Model\n",
        "from keras.preprocessing import image\n",
        "from keras.applications.resnet50 import preprocess_input, decode_predictions\n",
        "\n",
        "def Setup():\n",
        "  A = np.random.randint(low = -PARAMS_L/2, high = PARAMS_L/2+1, size = PARAMS_N * PARAMS_M, dtype = int)\n",
        "  A.resize(PARAMS_M, PARAMS_N)\n",
        "\n",
        "  return A;\n",
        "\n",
        "def Encap(A, folder):\n",
        "  model = load_model('/content/drive/MyDrive/Notebooks/weights.h5')\n",
        "  model2 = Model(model.input, model.layers[-2].output)\n",
        "\n",
        "  img = np.zeros((5,224,224,3));\n",
        "  feature = np.zeros((5,512));\n",
        "\n",
        "  for i in range(0,5):\n",
        "    img[i] = image.load_img(folder + '/' + str(i) +'.jpg', target_size=(224, 224))\n",
        "    x = image.img_to_array(img[i]);\n",
        "    x = np.expand_dims(x, axis=0);\n",
        "    x = preprocess_input(x);\n",
        "    feature[i] = model2.predict(x);\n",
        "\n",
        "  t = (feature.max(axis=0) - feature.min(axis=0));\n",
        "\n",
        "  for i in range(0,5):\n",
        "    for j in range(0,512):\n",
        "      if t[j] > 1:\n",
        "        feature[i][j] = (feature[i][j] / (6* t[j]))\n",
        "\n",
        "  feature = feature.astype(int);\n",
        "\n",
        "  b = feature[0].reshape(PARAMS_N,1);\n",
        "\n",
        "  m = np.random.randint(low = 0, high = 2, size = 133, dtype = int);\n",
        "\n",
        "  encm = code.encode(m);\n",
        "  encm.reshape(2047,1);\n",
        "\n",
        "  c = np.remainder(np.matmul(A,b) + EMBLEM_Encode(encm, PARAMS_LOGQ-1), PARAMS_Q);\n",
        "\n",
        "  return (t, c, m)\n",
        "\n",
        "def Decap(A, t, c, imgg):\n",
        "  img = image.load_img(imgg, target_size=(224, 224))\n",
        "  x = image.img_to_array(img);\n",
        "  x = np.expand_dims(x, axis=0);\n",
        "  x = preprocess_input(x);\n",
        "  feature = model2.predict(x);\n",
        "  feature = feature.reshape(PARAMS_N,1);\n",
        "\n",
        "  for j in range(0,512):\n",
        "    if t[j] > 1:\n",
        "      feature[j] = (feature[j] / (6* t[j]))\n",
        "\n",
        "  bprime = feature.astype(int);\n",
        "\n",
        "  cprime = np.remainder(c - np.matmul(A, bprime), PARAMS_Q)\n",
        "  decm = EMBLEM_Decode(cprime, PARAMS_LOGQ-1).reshape(2047)\n",
        "  mprime = code.decode(decm);\n",
        "  return mprime;"
      ],
      "execution_count": 241,
      "outputs": []
    },
    {
      "cell_type": "code",
      "metadata": {
        "id": "0sf9Ie_1_ygO"
      },
      "source": [
        "A = Setup();"
      ],
      "execution_count": 242,
      "outputs": []
    },
    {
      "cell_type": "code",
      "metadata": {
        "id": "BNyk3-FyDUR6"
      },
      "source": [
        "(t, c, m) = Encap(A, '/content/drive/MyDrive/Notebooks/face/output/1');"
      ],
      "execution_count": 243,
      "outputs": []
    },
    {
      "cell_type": "code",
      "metadata": {
        "id": "HOL-F16vAXYN"
      },
      "source": [
        "mprime = Decap(A, t, c, '/content/drive/MyDrive/Notebooks/face/output/1/1.jpg');"
      ],
      "execution_count": 244,
      "outputs": []
    },
    {
      "cell_type": "code",
      "metadata": {
        "id": "BVnOXEGoE57R",
        "outputId": "95bb03f7-21e8-4eed-9c00-24850539fbc8",
        "colab": {
          "base_uri": "https://localhost:8080/"
        }
      },
      "source": [
        "np.sum(np.abs(m - mprime))"
      ],
      "execution_count": 245,
      "outputs": [
        {
          "output_type": "execute_result",
          "data": {
            "text/plain": [
              "0"
            ]
          },
          "metadata": {
            "tags": []
          },
          "execution_count": 245
        }
      ]
    },
    {
      "cell_type": "code",
      "metadata": {
        "id": "Qs8VA2D4Dnk-"
      },
      "source": [
        "mprime2 = Decap(A, t, c, '/content/drive/MyDrive/Notebooks/face/output/2/1.jpg');"
      ],
      "execution_count": 246,
      "outputs": []
    },
    {
      "cell_type": "code",
      "metadata": {
        "colab": {
          "base_uri": "https://localhost:8080/"
        },
        "id": "gB0vsyO_D0K0",
        "outputId": "5c0fd3da-7570-4fc3-d1aa-133a19973fbf"
      },
      "source": [
        "np.sum(np.abs(m - mprime2))"
      ],
      "execution_count": 247,
      "outputs": [
        {
          "output_type": "execute_result",
          "data": {
            "text/plain": [
              "70"
            ]
          },
          "metadata": {
            "tags": []
          },
          "execution_count": 247
        }
      ]
    },
    {
      "cell_type": "code",
      "metadata": {
        "id": "3uDgeG2eD19l"
      },
      "source": [
        "mprime3 = Decap(A, t, c, '/content/drive/MyDrive/Notebooks/face/output/1/5.jpg');"
      ],
      "execution_count": 248,
      "outputs": []
    },
    {
      "cell_type": "code",
      "metadata": {
        "id": "WTk2O1-WEEN_",
        "outputId": "013e9d3a-9999-4261-de19-8acc3e59b0f8",
        "colab": {
          "base_uri": "https://localhost:8080/"
        }
      },
      "source": [
        "np.sum(np.abs(m - mprime3))"
      ],
      "execution_count": 249,
      "outputs": [
        {
          "output_type": "execute_result",
          "data": {
            "text/plain": [
              "67"
            ]
          },
          "metadata": {
            "tags": []
          },
          "execution_count": 249
        }
      ]
    }
  ]
}