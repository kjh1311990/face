{
  "nbformat": 4,
  "nbformat_minor": 0,
  "metadata": {
    "kernelspec": {
      "display_name": "Python 3",
      "language": "python",
      "name": "python3"
    },
    "language_info": {
      "codemirror_mode": {
        "name": "ipython",
        "version": 3
      },
      "file_extension": ".py",
      "mimetype": "text/x-python",
      "name": "python",
      "nbconvert_exporter": "python",
      "pygments_lexer": "ipython3",
      "version": "3.6.8"
    },
    "colab": {
      "name": "Fuzzy Extractor.ipynb",
      "provenance": [],
      "include_colab_link": true
    }
  },
  "cells": [
    {
      "cell_type": "markdown",
      "metadata": {
        "id": "view-in-github",
        "colab_type": "text"
      },
      "source": [
        "<a href=\"https://colab.research.google.com/github/kjh1311990/face/blob/main/Fuzzy_Extractor.ipynb\" target=\"_parent\"><img src=\"https://colab.research.google.com/assets/colab-badge.svg\" alt=\"Open In Colab\"/></a>"
      ]
    },
    {
      "cell_type": "code",
      "metadata": {
        "id": "dVgvVme-XNKI",
        "colab": {
          "base_uri": "https://localhost:8080/"
        },
        "outputId": "bd05a85e-c937-4108-ece9-42ec874fea79"
      },
      "source": [
        "from google.colab import drive\n",
        "drive.mount('/content/drive')\n",
        "\n",
        "!pip install komm"
      ],
      "execution_count": 128,
      "outputs": [
        {
          "output_type": "stream",
          "text": [
            "Drive already mounted at /content/drive; to attempt to forcibly remount, call drive.mount(\"/content/drive\", force_remount=True).\n",
            "Requirement already satisfied: komm in /usr/local/lib/python3.6/dist-packages (0.7.1)\n",
            "Requirement already satisfied: numpy in /usr/local/lib/python3.6/dist-packages (from komm) (1.18.5)\n",
            "Requirement already satisfied: scipy in /usr/local/lib/python3.6/dist-packages (from komm) (1.4.1)\n"
          ],
          "name": "stdout"
        }
      ]
    },
    {
      "cell_type": "code",
      "metadata": {
        "id": "G_TyA1SvyOGK"
      },
      "source": [
        "import komm\n",
        "import numpy as np\n",
        "code = komm.BCHCode(11,365)"
      ],
      "execution_count": 129,
      "outputs": []
    },
    {
      "cell_type": "code",
      "metadata": {
        "id": "MAi06PmTyJ0D"
      },
      "source": [
        "import numpy as np\n",
        "\n",
        "PARAMS_M = 2047\n",
        "PARAMS_N = 512\n",
        "\n",
        "PARAMS_LOGQ = 9\n",
        "PARAMS_LOGL = 5\n",
        "PARAMS_LOGT = 2\n",
        "\n",
        "PARAMS_Q = 1 << PARAMS_LOGQ\n",
        "PARAMS_L = 1 << PARAMS_LOGL"
      ],
      "execution_count": 130,
      "outputs": []
    },
    {
      "cell_type": "code",
      "metadata": {
        "id": "zWBXNiiaXNKJ"
      },
      "source": [
        "def EMBLEM_Encode(m, shift):\n",
        "    encm = ((m << 1) + 1) << (shift - 1);\n",
        "    return encm.reshape(PARAMS_M, 1);\n",
        "\n",
        "def EMBLEM_Decode(m, shift):\n",
        "    decm = m >> shift;\n",
        "    return decm.reshape(PARAMS_M, 1);"
      ],
      "execution_count": 131,
      "outputs": []
    },
    {
      "cell_type": "code",
      "metadata": {
        "id": "b5_YowDW6XJp"
      },
      "source": [
        "Align_Image();"
      ],
      "execution_count": 132,
      "outputs": []
    },
    {
      "cell_type": "code",
      "metadata": {
        "id": "2p5RL0T69Zry"
      },
      "source": [
        "from keras.models import load_model\n",
        "from keras.models import Model\n",
        "from keras.preprocessing import image\n",
        "from keras.applications.resnet50 import preprocess_input, decode_predictions\n",
        "import dlib, cv2\n",
        "\n",
        "def Setup():\n",
        "  A = np.random.randint(low = -PARAMS_L/2, high = PARAMS_L/2+1, size = PARAMS_N * PARAMS_M, dtype = int)\n",
        "  A.resize(PARAMS_M, PARAMS_N)\n",
        "\n",
        "  model = load_model('/content/drive/MyDrive/Notebooks/weights.h5')\n",
        "  model2 = Model(model.input, model.layers[-2].output)\n",
        "\n",
        "  return (A, model2);\n",
        "\n",
        "def Encap(A, model, folder):\n",
        "  img = np.zeros((8,224,224,3));\n",
        "  feature = np.zeros((8,512));\n",
        "\n",
        "  for i in range(0,8):\n",
        "    \n",
        "    detector = dlib.get_frontal_face_detector();\n",
        "    sp = dlib.shape_predictor('/content/drive/MyDrive/Notebooks/shape_predictor_5_face_landmarks.dat')\n",
        "    tmp = dlib.load_rgb_image(folder + '/' + str(i) +'.jpg')\n",
        "    tmp_detection = detector(tmp, 1)\n",
        "    tmp_shape = sp(tmp, tmp_detection[0])\n",
        "    tmp_aligned = dlib.get_face_chip(tmp, tmp_shape)\n",
        "    tmp_aligned = cv2.cvtColor(tmp_aligned, cv2.COLOR_BGR2RGB)\n",
        "    cv2.imwrite('tmp.jpg', tmp_aligned)\n",
        "\n",
        "    img[i] = image.load_img('tmp.jpg', target_size=(224, 224))\n",
        "    x = image.img_to_array(img[i]);\n",
        "    x = np.expand_dims(x, axis=0);\n",
        "    x = preprocess_input(x);\n",
        "    feature[i] = model.predict(x);\n",
        "    !rm tmp.jpg\n",
        "  t = (feature.max(axis=0) - feature.min(axis=0));\n",
        "\n",
        "  for i in range(0,8):\n",
        "    for j in range(0,512):\n",
        "      if t[j] > 1:\n",
        "        feature[i][j] = (feature[i][j] / (6* t[j]))\n",
        "\n",
        "  feature = feature.astype(int);\n",
        "\n",
        "  b = feature[0].reshape(PARAMS_N,1);\n",
        "\n",
        "  m = np.random.randint(low = 0, high = 2, size = 133, dtype = int);\n",
        "\n",
        "  encm = code.encode(m);\n",
        "  encm.reshape(2047,1);\n",
        "\n",
        "  c = np.remainder(np.matmul(A,b) + EMBLEM_Encode(encm, PARAMS_LOGQ-1), PARAMS_Q);\n",
        "\n",
        "\n",
        "  c = (c + (1 << (PARAMS_LOGQ - PARAMS_LOGT - 1))) >> (PARAMS_LOGQ - PARAMS_LOGT);\n",
        "\n",
        "  return (t, c, m)\n",
        "\n",
        "def Decap(A, model, t, c, imgg):\n",
        "\n",
        "  detector = dlib.get_frontal_face_detector();\n",
        "  sp = dlib.shape_predictor('/content/drive/MyDrive/Notebooks/shape_predictor_5_face_landmarks.dat')\n",
        "  tmp = dlib.load_rgb_image(imgg)\n",
        "  tmp_detection = detector(tmp, 1)\n",
        "  tmp_shape = sp(tmp, tmp_detection[0])\n",
        "  tmp_aligned = dlib.get_face_chip(tmp, tmp_shape)\n",
        "  tmp_aligned = cv2.cvtColor(tmp_aligned, cv2.COLOR_BGR2RGB)\n",
        "  cv2.imwrite('tmp.jpg', tmp_aligned)\n",
        "\n",
        "  img = image.load_img('tmp.jpg', target_size=(224, 224))\n",
        "  !rm tmp.jpg\n",
        "  \n",
        "  x = image.img_to_array(img);\n",
        "  x = np.expand_dims(x, axis=0);\n",
        "  x = preprocess_input(x);\n",
        "  feature = model.predict(x);\n",
        "  feature = feature.reshape(PARAMS_N,1);\n",
        "\n",
        "  for j in range(0,512):\n",
        "    if t[j] > 1:\n",
        "      feature[j] = (feature[j] / (6* t[j]))\n",
        "\n",
        "  bprime = feature.astype(int);\n",
        "\n",
        "  c = c << (PARAMS_LOGQ - PARAMS_LOGT);\n",
        "  cprime = np.remainder(c - np.matmul(A, bprime), PARAMS_Q)\n",
        "  decm = EMBLEM_Decode(cprime, PARAMS_LOGQ-1).reshape(2047)\n",
        "  mprime = code.decode(decm);\n",
        "  return mprime;"
      ],
      "execution_count": 133,
      "outputs": []
    },
    {
      "cell_type": "code",
      "metadata": {
        "id": "0sf9Ie_1_ygO"
      },
      "source": [
        "(A, model) = Setup();"
      ],
      "execution_count": 134,
      "outputs": []
    },
    {
      "cell_type": "code",
      "metadata": {
        "id": "BNyk3-FyDUR6"
      },
      "source": [
        "(t, c, m) = Encap(A, model, '/content/drive/MyDrive/Notebooks/face/input/1');"
      ],
      "execution_count": 135,
      "outputs": []
    },
    {
      "cell_type": "code",
      "metadata": {
        "id": "HOL-F16vAXYN"
      },
      "source": [
        "mprime = Decap(A, model, t, c, '/content/drive/MyDrive/Notebooks/face/input/1/1.jpg');"
      ],
      "execution_count": 136,
      "outputs": []
    },
    {
      "cell_type": "code",
      "metadata": {
        "colab": {
          "base_uri": "https://localhost:8080/"
        },
        "id": "BVnOXEGoE57R",
        "outputId": "4c8c2ae7-b9f5-45ea-f8f4-7b431d1b8e14"
      },
      "source": [
        "np.sum(np.abs(m - mprime))"
      ],
      "execution_count": 137,
      "outputs": [
        {
          "output_type": "execute_result",
          "data": {
            "text/plain": [
              "0"
            ]
          },
          "metadata": {
            "tags": []
          },
          "execution_count": 137
        }
      ]
    },
    {
      "cell_type": "code",
      "metadata": {
        "id": "Qs8VA2D4Dnk-"
      },
      "source": [
        "mprime2 = Decap(A, model, t, c, '/content/drive/MyDrive/Notebooks/face/input/2/1.jpg');"
      ],
      "execution_count": 138,
      "outputs": []
    },
    {
      "cell_type": "code",
      "metadata": {
        "colab": {
          "base_uri": "https://localhost:8080/"
        },
        "id": "gB0vsyO_D0K0",
        "outputId": "0808a10a-9942-4699-8dde-9839e9444388"
      },
      "source": [
        "np.sum(np.abs(m - mprime2))"
      ],
      "execution_count": 139,
      "outputs": [
        {
          "output_type": "execute_result",
          "data": {
            "text/plain": [
              "70"
            ]
          },
          "metadata": {
            "tags": []
          },
          "execution_count": 139
        }
      ]
    },
    {
      "cell_type": "code",
      "metadata": {
        "id": "3uDgeG2eD19l"
      },
      "source": [
        "mprime3 = Decap(A, model, t, c, '/content/drive/MyDrive/Notebooks/face/input/1/8.jpg');"
      ],
      "execution_count": 140,
      "outputs": []
    },
    {
      "cell_type": "code",
      "metadata": {
        "colab": {
          "base_uri": "https://localhost:8080/"
        },
        "id": "WTk2O1-WEEN_",
        "outputId": "40de3bf3-dde8-4e91-e208-ea0eb3feb164"
      },
      "source": [
        "np.sum(np.abs(m - mprime3))"
      ],
      "execution_count": 141,
      "outputs": [
        {
          "output_type": "execute_result",
          "data": {
            "text/plain": [
              "0"
            ]
          },
          "metadata": {
            "tags": []
          },
          "execution_count": 141
        }
      ]
    },
    {
      "cell_type": "code",
      "metadata": {
        "id": "bkP4i9ezGGVd",
        "outputId": "474bc47d-4c57-486b-f43d-d69f367dd0d3",
        "colab": {
          "base_uri": "https://localhost:8080/"
        }
      },
      "source": [
        "for i in range(0,6):\n",
        "  mprime3 = Decap(A, model, t, c, '/content/drive/MyDrive/Notebooks/face/input/2/'+ str(i) + '.jpg');\n",
        "  print(np.sum(np.abs(m - mprime3)))"
      ],
      "execution_count": 158,
      "outputs": [
        {
          "output_type": "stream",
          "text": [
            "62\n",
            "70\n",
            "76\n",
            "65\n",
            "64\n",
            "66\n"
          ],
          "name": "stdout"
        }
      ]
    },
    {
      "cell_type": "code",
      "metadata": {
        "id": "lz7P_dDbEhDf",
        "outputId": "23427f6d-e1fc-4648-e3c1-80ff3100f9bf",
        "colab": {
          "base_uri": "https://localhost:8080/"
        }
      },
      "source": [
        "for i in range(0,10):\n",
        "  mprime3 = Decap(A, model, t, c, '/content/drive/MyDrive/Notebooks/face/input/3/'+ str(i) + '.jpg');\n",
        "  print(np.sum(np.abs(m - mprime3)))"
      ],
      "execution_count": 159,
      "outputs": [
        {
          "output_type": "stream",
          "text": [
            "60\n",
            "69\n",
            "64\n",
            "74\n",
            "71\n",
            "82\n",
            "58\n",
            "65\n",
            "68\n",
            "72\n"
          ],
          "name": "stdout"
        }
      ]
    },
    {
      "cell_type": "code",
      "metadata": {
        "id": "x90cD5YIKVYo",
        "outputId": "fbd525de-0b32-4782-db11-d833d2a6c08c",
        "colab": {
          "base_uri": "https://localhost:8080/"
        }
      },
      "source": [
        "for i in range(0,16):\n",
        "  mprime3 = Decap(A, model, t, c, '/content/drive/MyDrive/Notebooks/face/input/1/'+ str(i) + '.jpg');\n",
        "  print(np.sum(np.abs(m - mprime3)))"
      ],
      "execution_count": 160,
      "outputs": [
        {
          "output_type": "stream",
          "text": [
            "0\n",
            "0\n",
            "0\n",
            "0\n",
            "0\n",
            "0\n",
            "0\n",
            "0\n",
            "0\n",
            "0\n",
            "0\n",
            "0\n",
            "0\n",
            "0\n",
            "0\n",
            "0\n"
          ],
          "name": "stdout"
        }
      ]
    },
    {
      "cell_type": "code",
      "metadata": {
        "id": "0h5VKzheMpc4"
      },
      "source": [
        ""
      ],
      "execution_count": null,
      "outputs": []
    }
  ]
}