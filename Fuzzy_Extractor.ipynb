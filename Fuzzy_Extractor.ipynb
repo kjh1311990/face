{
  "nbformat": 4,
  "nbformat_minor": 0,
  "metadata": {
    "kernelspec": {
      "display_name": "Python 3",
      "language": "python",
      "name": "python3"
    },
    "language_info": {
      "codemirror_mode": {
        "name": "ipython",
        "version": 3
      },
      "file_extension": ".py",
      "mimetype": "text/x-python",
      "name": "python",
      "nbconvert_exporter": "python",
      "pygments_lexer": "ipython3",
      "version": "3.6.8"
    },
    "colab": {
      "name": "Fuzzy Extractor.ipynb",
      "provenance": [],
      "include_colab_link": true
    }
  },
  "cells": [
    {
      "cell_type": "markdown",
      "metadata": {
        "id": "view-in-github",
        "colab_type": "text"
      },
      "source": [
        "<a href=\"https://colab.research.google.com/github/kjh1311990/face/blob/main/Fuzzy_Extractor.ipynb\" target=\"_parent\"><img src=\"https://colab.research.google.com/assets/colab-badge.svg\" alt=\"Open In Colab\"/></a>"
      ]
    },
    {
      "cell_type": "code",
      "metadata": {
        "id": "dVgvVme-XNKI",
        "outputId": "0c7d1b18-1c24-435f-9330-55b6f0543b0f",
        "colab": {
          "base_uri": "https://localhost:8080/"
        }
      },
      "source": [
        "!pip install komm"
      ],
      "execution_count": 8,
      "outputs": [
        {
          "output_type": "stream",
          "text": [
            "Collecting komm\n",
            "\u001b[?25l  Downloading https://files.pythonhosted.org/packages/82/04/84feeedc76030c680b0dcc8ea968f3356bd3539639642b44feac3d304c93/komm-0.7.1.tar.gz (50kB)\n",
            "\r\u001b[K     |██████▌                         | 10kB 15.8MB/s eta 0:00:01\r\u001b[K     |█████████████                   | 20kB 21.8MB/s eta 0:00:01\r\u001b[K     |███████████████████▌            | 30kB 8.3MB/s eta 0:00:01\r\u001b[K     |██████████████████████████      | 40kB 8.8MB/s eta 0:00:01\r\u001b[K     |████████████████████████████████| 51kB 2.5MB/s \n",
            "\u001b[?25hRequirement already satisfied: numpy in /usr/local/lib/python3.6/dist-packages (from komm) (1.18.5)\n",
            "Requirement already satisfied: scipy in /usr/local/lib/python3.6/dist-packages (from komm) (1.4.1)\n",
            "Building wheels for collected packages: komm\n",
            "  Building wheel for komm (setup.py) ... \u001b[?25l\u001b[?25hdone\n",
            "  Created wheel for komm: filename=komm-0.7.1-cp36-none-any.whl size=56607 sha256=bc1a4c0a6d72546f482ea6e2449f913076c280665dd94d10f7ee94b731750f0f\n",
            "  Stored in directory: /root/.cache/pip/wheels/22/1e/97/4a65e9a6e202aa360d36ec6a822b31cea491e2ec55788cf71f\n",
            "Successfully built komm\n",
            "Installing collected packages: komm\n",
            "Successfully installed komm-0.7.1\n"
          ],
          "name": "stdout"
        }
      ]
    },
    {
      "cell_type": "code",
      "metadata": {
        "id": "G_TyA1SvyOGK"
      },
      "source": [
        "import komm\n",
        "import numpy as np\n",
        "code = komm.BCHCode(11,365)"
      ],
      "execution_count": 9,
      "outputs": []
    },
    {
      "cell_type": "code",
      "metadata": {
        "id": "MAi06PmTyJ0D"
      },
      "source": [
        "import numpy as np\n",
        "\n",
        "PARAMS_M = 2047\n",
        "PARAMS_N = 512\n",
        "\n",
        "PARAMS_LOGQ = 10\n",
        "PARAMS_LOGL = 6\n",
        "\n",
        "PARAMS_Q = 1 << PARAMS_LOGQ\n",
        "PARAMS_L = 1 << PARAMS_LOGL"
      ],
      "execution_count": 10,
      "outputs": []
    },
    {
      "cell_type": "code",
      "metadata": {
        "id": "zWBXNiiaXNKJ"
      },
      "source": [
        "def EMBLEM_Encode(m, shift):\n",
        "    encm = ((m << 1) + 1) << (shift - 1);\n",
        "    return encm.reshape(PARAMS_M, 1);"
      ],
      "execution_count": 11,
      "outputs": []
    },
    {
      "cell_type": "code",
      "metadata": {
        "id": "kZjt7nbdXNKJ"
      },
      "source": [
        "def EMBLEM_Decode(m, shift):\n",
        "    decm = m >> shift;\n",
        "    return decm.reshape(PARAMS_M, 1);"
      ],
      "execution_count": 12,
      "outputs": []
    },
    {
      "cell_type": "code",
      "metadata": {
        "id": "5WiQQ1gQXNKJ"
      },
      "source": [
        "A = np.random.randint(low = -PARAMS_L/2, high = PARAMS_L/2+1, size = PARAMS_N * PARAMS_M, dtype = int)\n",
        "A.resize(PARAMS_M, PARAMS_N)"
      ],
      "execution_count": 13,
      "outputs": []
    },
    {
      "cell_type": "code",
      "metadata": {
        "id": "daw80RrBXNKJ"
      },
      "source": [
        "b = np.random.randint(low = 0, high = PARAMS_Q, size = PARAMS_N, dtype = int);\n",
        "b.resize(PARAMS_N,1);"
      ],
      "execution_count": 14,
      "outputs": []
    },
    {
      "cell_type": "code",
      "metadata": {
        "id": "Yj22ICThXNKJ"
      },
      "source": [
        "m = np.random.randint(low = 0, high = 2, size = 133, dtype = int);"
      ],
      "execution_count": 15,
      "outputs": []
    },
    {
      "cell_type": "code",
      "metadata": {
        "id": "U8QgpFO-XNKJ"
      },
      "source": [
        "encm = code.encode(m);\n",
        "encm.reshape(2047,1);"
      ],
      "execution_count": 16,
      "outputs": []
    },
    {
      "cell_type": "code",
      "metadata": {
        "id": "qoAIMyA3XNKJ"
      },
      "source": [
        "c = np.remainder(np.matmul(A,b) + EMBLEM_Encode(encm, PARAMS_LOGQ-1), PARAMS_Q);"
      ],
      "execution_count": 17,
      "outputs": []
    },
    {
      "cell_type": "code",
      "metadata": {
        "id": "GgCG5VGaXNKJ"
      },
      "source": [
        "b1 = np.random.randint(low = 0, high = 2, size = PARAMS_N, dtype = int);\n",
        "b1.resize(PARAMS_N,1);\n",
        "\n",
        "b2 = np.random.randint(low = 0, high = 2, size = PARAMS_N, dtype = int);\n",
        "b2.resize(PARAMS_N,1);\n",
        "\n",
        "bprime = b + b1 - b2;"
      ],
      "execution_count": 18,
      "outputs": []
    },
    {
      "cell_type": "code",
      "metadata": {
        "id": "gB1CGBbGXNKK"
      },
      "source": [
        "cprime = np.remainder(c - np.matmul(A,bprime), PARAMS_Q)"
      ],
      "execution_count": 19,
      "outputs": []
    },
    {
      "cell_type": "code",
      "metadata": {
        "id": "1Cs_tjhJXNKK"
      },
      "source": [
        "mprime = code.decode(EMBLEM_Decode(cprime, PARAMS_LOGQ-1).reshape(2047))"
      ],
      "execution_count": 20,
      "outputs": []
    },
    {
      "cell_type": "code",
      "metadata": {
        "id": "HeHCleriXNKK",
        "outputId": "0c98e64d-dd08-4ed4-dd17-c14a2b62f186",
        "colab": {
          "base_uri": "https://localhost:8080/"
        }
      },
      "source": [
        "np.sum(np.abs(m - mprime))"
      ],
      "execution_count": 21,
      "outputs": [
        {
          "output_type": "execute_result",
          "data": {
            "text/plain": [
              "47"
            ]
          },
          "metadata": {
            "tags": []
          },
          "execution_count": 21
        }
      ]
    },
    {
      "cell_type": "code",
      "metadata": {
        "id": "o3DIGAuGyc6s"
      },
      "source": [
        ""
      ],
      "execution_count": null,
      "outputs": []
    }
  ]
}