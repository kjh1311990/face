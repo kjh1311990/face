{
  "nbformat": 4,
  "nbformat_minor": 0,
  "metadata": {
    "colab": {
      "name": "Fuzzy Extractor3.ipynb",
      "provenance": [],
      "collapsed_sections": [],
      "authorship_tag": "ABX9TyMfGOW4OisA6XGZsiRydg9y",
      "include_colab_link": true
    },
    "kernelspec": {
      "name": "python3",
      "display_name": "Python 3"
    },
    "accelerator": "GPU"
  },
  "cells": [
    {
      "cell_type": "markdown",
      "metadata": {
        "id": "view-in-github",
        "colab_type": "text"
      },
      "source": [
        "<a href=\"https://colab.research.google.com/github/kjh1311990/face/blob/main/Fuzzy_Extractor3.ipynb\" target=\"_parent\"><img src=\"https://colab.research.google.com/assets/colab-badge.svg\" alt=\"Open In Colab\"/></a>"
      ]
    },
    {
      "cell_type": "code",
      "metadata": {
        "colab": {
          "base_uri": "https://localhost:8080/"
        },
        "id": "fkUWjvj8NGsY",
        "outputId": "ee4866c4-61fd-430b-b6ef-6761da36c868"
      },
      "source": [
        "from google.colab import drive\n",
        "drive.mount('/content/drive')\n",
        "\n",
        "\n",
        "!pip install komm"
      ],
      "execution_count": 77,
      "outputs": [
        {
          "output_type": "stream",
          "text": [
            "Drive already mounted at /content/drive; to attempt to forcibly remount, call drive.mount(\"/content/drive\", force_remount=True).\n",
            "Requirement already satisfied: komm in /usr/local/lib/python3.6/dist-packages (0.7.1)\n",
            "Requirement already satisfied: scipy in /usr/local/lib/python3.6/dist-packages (from komm) (1.4.1)\n",
            "Requirement already satisfied: numpy in /usr/local/lib/python3.6/dist-packages (from komm) (1.18.5)\n"
          ],
          "name": "stdout"
        }
      ]
    },
    {
      "cell_type": "code",
      "metadata": {
        "id": "x-ENveVONHmf"
      },
      "source": [
        "import komm\n",
        "import numpy as np\n",
        "code = komm.BCHCode(10,127)\n",
        "\n",
        "PARAMS_BCH_N = 1023\n",
        "PARAMS_BCH_K = 133"
      ],
      "execution_count": 78,
      "outputs": []
    },
    {
      "cell_type": "code",
      "metadata": {
        "id": "o8CfUq8yNI9b"
      },
      "source": [
        "import numpy as np\n",
        "\n",
        "PARAMS_M = PARAMS_BCH_N\n",
        "PARAMS_N = 128\n",
        "\n",
        "PARAMS_LOGQ = 9\n",
        "PARAMS_LOGL = 6\n",
        "PARAMS_LOGT = 2\n",
        "\n",
        "PARAMS_Q = 1 << PARAMS_LOGQ\n",
        "PARAMS_L = 1 << PARAMS_LOGL\n",
        "\n",
        "PARAMS_TRAINING_SET = 8\n",
        "PARAMS_FACTOR = 3"
      ],
      "execution_count": 86,
      "outputs": []
    },
    {
      "cell_type": "code",
      "metadata": {
        "id": "R1x9Cu40NPar"
      },
      "source": [
        "def EMBLEM_Encode(m, shift):\n",
        "    encm = ((m << 1) + 1) << (shift - 1);\n",
        "    return encm.reshape(PARAMS_M, 1);\n",
        "\n",
        "def EMBLEM_Decode(m, shift):\n",
        "    decm = m >> shift;\n",
        "    return decm.reshape(PARAMS_M, 1);"
      ],
      "execution_count": 87,
      "outputs": []
    },
    {
      "cell_type": "code",
      "metadata": {
        "id": "8MwtgBqTNPvI"
      },
      "source": [
        "from keras.models import load_model\n",
        "from keras.models import Model\n",
        "from keras.preprocessing import image\n",
        "from keras.applications.resnet50 import preprocess_input, decode_predictions\n",
        "import dlib, cv2\n",
        "\n",
        "def Setup():\n",
        "  A = np.random.randint(low = -PARAMS_L/2, high = PARAMS_L/2+1, size = PARAMS_N * PARAMS_M, dtype = int)\n",
        "  A.resize(PARAMS_M, PARAMS_N)\n",
        "\n",
        "  return A;\n",
        "\n",
        "def Encap(A, folder):\n",
        "  feature = np.zeros((PARAMS_TRAINING_SET, PARAMS_N));\n",
        "\n",
        "  for i in range(0,PARAMS_TRAINING_SET):    \n",
        "    detector = dlib.get_frontal_face_detector();\n",
        "    sp = dlib.shape_predictor('/content/drive/MyDrive/Notebooks/shape_predictor_5_face_landmarks.dat')\n",
        "    facerec = dlib.face_recognition_model_v1('/content/drive/MyDrive/Notebooks/dlib_face_recognition_resnet_model_v1.dat')\n",
        "\n",
        "    tmp = dlib.load_rgb_image(folder + '/' + str(i) +'.jpg')\n",
        "    tmp_detection = detector(tmp, 1)\n",
        "    tmp_shape = sp(tmp, tmp_detection[0])\n",
        "    tmp_aligned = dlib.get_face_chip(tmp, tmp_shape);\n",
        "    feature[i] = facerec.compute_face_descriptor(tmp_aligned);\n",
        "  t = (feature.max(axis=0) - feature.min(axis=0));\n",
        "\n",
        "  for i in range(0,PARAMS_TRAINING_SET):\n",
        "    for j in range(0,PARAMS_N):\n",
        "      feature[i][j] = (feature[i][j] / (PARAMS_FACTOR * t[j]))\n",
        "  \n",
        "  b = feature.mean(axis=0).astype(int).reshape(PARAMS_N,1);\n",
        "\n",
        "  m = np.random.randint(low = 0, high = 2, size = PARAMS_BCH_K, dtype = int);\n",
        "\n",
        "  encm = code.encode(m);\n",
        "  encm.reshape(PARAMS_M,1);\n",
        "\n",
        "  c = np.remainder(np.matmul(A,b) + EMBLEM_Encode(encm, PARAMS_LOGQ-1), PARAMS_Q);\n",
        "\n",
        "  c = (c + (1 << (PARAMS_LOGQ - PARAMS_LOGT - 1))) >> (PARAMS_LOGQ - PARAMS_LOGT);\n",
        "\n",
        "  return (t, c, m, b)\n",
        "\n",
        "def Decap(A, t, c, imgg):\n",
        "  detector = dlib.get_frontal_face_detector();\n",
        "  sp = dlib.shape_predictor('/content/drive/MyDrive/Notebooks/shape_predictor_5_face_landmarks.dat')\n",
        "  facerec = dlib.face_recognition_model_v1('/content/drive/MyDrive/Notebooks/dlib_face_recognition_resnet_model_v1.dat')\n",
        "\n",
        "  tmp = dlib.load_rgb_image(imgg)\n",
        "  tmp_detection = detector(tmp, 1)\n",
        "  tmp_shape = sp(tmp, tmp_detection[0])\n",
        "  tmp_aligned = dlib.get_face_chip(tmp, tmp_shape);\n",
        "  feature = facerec.compute_face_descriptor(tmp_aligned);\n",
        "\n",
        "  for j in range(0,PARAMS_N):\n",
        "    feature[j] = (feature[j] / (PARAMS_FACTOR  * t[j]))\n",
        "\n",
        "  bprime = np.array(feature).reshape(PARAMS_N,1).astype(int);\n",
        "\n",
        "  c = c << (PARAMS_LOGQ - PARAMS_LOGT);\n",
        "  cprime = np.remainder(c - np.matmul(A, bprime), PARAMS_Q)\n",
        "  decm = EMBLEM_Decode(cprime, PARAMS_LOGQ-1).reshape(PARAMS_M)\n",
        "  mprime = code.decode(decm);\n",
        "  return (mprime, bprime);"
      ],
      "execution_count": 88,
      "outputs": []
    },
    {
      "cell_type": "code",
      "metadata": {
        "id": "vYGZm_siNR2A"
      },
      "source": [
        "A = Setup();"
      ],
      "execution_count": 89,
      "outputs": []
    },
    {
      "cell_type": "code",
      "metadata": {
        "id": "LNZJcTN-NR-f"
      },
      "source": [
        "(t, c, m, b) = Encap(A, '/content/drive/MyDrive/Notebooks/face/input/1');"
      ],
      "execution_count": 90,
      "outputs": []
    },
    {
      "cell_type": "code",
      "metadata": {
        "colab": {
          "base_uri": "https://localhost:8080/"
        },
        "id": "_BMWFuTrgMVh",
        "outputId": "23e14baf-2266-481d-af60-cc876c760af1"
      },
      "source": [
        "b.reshape(PARAMS_N)"
      ],
      "execution_count": 91,
      "outputs": [
        {
          "output_type": "execute_result",
          "data": {
            "text/plain": [
              "array([ 0,  0,  0,  0,  0,  0,  0,  0,  0, -1,  2,  0, -1,  0,  0,  3, -1,\n",
              "       -2,  0,  0,  0,  0,  0,  0, -1, -1,  0,  0,  0,  0,  0,  0, -1,  0,\n",
              "        0,  0,  0,  0,  0,  0, -1,  0,  0,  2,  1,  0,  0, -1,  0, -1,  0,\n",
              "        1,  0,  1,  0,  0,  1,  0,  0,  0,  0,  0,  0,  0,  1,  0,  0, -2,\n",
              "        1, -3, -1,  0, -1, -1, -4,  0,  2,  2, -1,  0,  0,  0,  0,  1,  0,\n",
              "        0, -1,  0,  2, -1,  0,  3,  0,  0,  0,  0,  0,  0,  0,  0,  1,  0,\n",
              "        0,  0,  0,  1,  0,  0,  0,  0, -2,  0,  0, -2,  2,  1,  0,  0,  0,\n",
              "        0,  0,  0, -3,  0,  0,  0,  0,  0])"
            ]
          },
          "metadata": {
            "tags": []
          },
          "execution_count": 91
        }
      ]
    },
    {
      "cell_type": "code",
      "metadata": {
        "colab": {
          "base_uri": "https://localhost:8080/"
        },
        "id": "qEyQ5AnQhLeV",
        "outputId": "2c1ca07f-18a3-4cad-c241-a5d4510b49b3"
      },
      "source": [
        "for i in range(0,16):\n",
        "  (mprime, bprime)= Decap(A, t, c, '/content/drive/MyDrive/Notebooks/face/input/1/'+ str(i) + '.jpg');\n",
        "  print(np.sum(np.abs(m - mprime)))"
      ],
      "execution_count": 92,
      "outputs": [
        {
          "output_type": "stream",
          "text": [
            "0\n",
            "0\n",
            "0\n",
            "0\n",
            "0\n",
            "0\n",
            "0\n",
            "0\n",
            "0\n",
            "0\n",
            "0\n",
            "0\n",
            "0\n",
            "0\n",
            "0\n",
            "0\n"
          ],
          "name": "stdout"
        }
      ]
    },
    {
      "cell_type": "code",
      "metadata": {
        "colab": {
          "base_uri": "https://localhost:8080/"
        },
        "id": "aOw9Zd1SjvbX",
        "outputId": "90297242-3a69-44f8-f02f-18c20099bbd4"
      },
      "source": [
        "for i in range(0,6):\n",
        "  (mprime, bprime)= Decap(A, t, c, '/content/drive/MyDrive/Notebooks/face/input/2/'+ str(i) + '.jpg');\n",
        "  print(np.sum(np.abs(m - mprime)))"
      ],
      "execution_count": 94,
      "outputs": [
        {
          "output_type": "stream",
          "text": [
            "24\n",
            "33\n",
            "30\n",
            "34\n",
            "31\n",
            "31\n"
          ],
          "name": "stdout"
        }
      ]
    },
    {
      "cell_type": "code",
      "metadata": {
        "colab": {
          "base_uri": "https://localhost:8080/"
        },
        "id": "MSLuqB05n5RO",
        "outputId": "ce497bea-da35-4d9c-8ee7-b39b129ecae3"
      },
      "source": [
        "for i in range(0,10):\n",
        "  (mprime, bprime)= Decap(A, t, c, '/content/drive/MyDrive/Notebooks/face/input/3/'+ str(i) + '.jpg');\n",
        "  print(np.sum(np.abs(m - mprime)))"
      ],
      "execution_count": 93,
      "outputs": [
        {
          "output_type": "stream",
          "text": [
            "40\n",
            "37\n",
            "44\n",
            "41\n",
            "33\n",
            "44\n",
            "39\n",
            "36\n",
            "39\n",
            "49\n"
          ],
          "name": "stdout"
        }
      ]
    },
    {
      "cell_type": "code",
      "metadata": {
        "id": "1VTlW0FSn8H2"
      },
      "source": [
        "cc = np.remainder(np.matmul(A, b),PARAMS_Q) >> (PARAMS_LOGQ - 2);"
      ],
      "execution_count": 97,
      "outputs": []
    },
    {
      "cell_type": "code",
      "metadata": {
        "colab": {
          "base_uri": "https://localhost:8080/"
        },
        "id": "TVuxRIz2pBjk",
        "outputId": "5d03dcfd-8da8-4f5b-f5d2-6b0a76006d63"
      },
      "source": [
        "np.histogram(cc, bins = np.arange(5))"
      ],
      "execution_count": 98,
      "outputs": [
        {
          "output_type": "execute_result",
          "data": {
            "text/plain": [
              "(array([257, 241, 221, 304]), array([0, 1, 2, 3, 4]))"
            ]
          },
          "metadata": {
            "tags": []
          },
          "execution_count": 98
        }
      ]
    },
    {
      "cell_type": "code",
      "metadata": {
        "id": "KZMPjVRYpDIy"
      },
      "source": [
        ""
      ],
      "execution_count": null,
      "outputs": []
    }
  ]
}