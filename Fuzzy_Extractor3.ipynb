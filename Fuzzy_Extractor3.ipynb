{
  "nbformat": 4,
  "nbformat_minor": 0,
  "metadata": {
    "colab": {
      "name": "Fuzzy Extractor3.ipynb",
      "provenance": [],
      "collapsed_sections": [],
      "authorship_tag": "ABX9TyP88u/gUkQyRAsoKr1PfiW+",
      "include_colab_link": true
    },
    "kernelspec": {
      "name": "python3",
      "display_name": "Python 3"
    },
    "accelerator": "GPU"
  },
  "cells": [
    {
      "cell_type": "markdown",
      "metadata": {
        "id": "view-in-github",
        "colab_type": "text"
      },
      "source": [
        "<a href=\"https://colab.research.google.com/github/kjh1311990/face/blob/main/Fuzzy_Extractor3.ipynb\" target=\"_parent\"><img src=\"https://colab.research.google.com/assets/colab-badge.svg\" alt=\"Open In Colab\"/></a>"
      ]
    },
    {
      "cell_type": "code",
      "metadata": {
        "colab": {
          "base_uri": "https://localhost:8080/"
        },
        "id": "fkUWjvj8NGsY",
        "outputId": "39ad855f-941f-47b6-b7b7-5893a4349ba5"
      },
      "source": [
        "from google.colab import drive\n",
        "drive.mount('/content/drive')\n",
        "\n",
        "!pip install komm"
      ],
      "execution_count": 13,
      "outputs": [
        {
          "output_type": "stream",
          "text": [
            "Drive already mounted at /content/drive; to attempt to forcibly remount, call drive.mount(\"/content/drive\", force_remount=True).\n",
            "Requirement already satisfied: komm in /usr/local/lib/python3.6/dist-packages (0.7.1)\n",
            "Requirement already satisfied: numpy in /usr/local/lib/python3.6/dist-packages (from komm) (1.18.5)\n",
            "Requirement already satisfied: scipy in /usr/local/lib/python3.6/dist-packages (from komm) (1.4.1)\n"
          ],
          "name": "stdout"
        }
      ]
    },
    {
      "cell_type": "code",
      "metadata": {
        "id": "x-ENveVONHmf"
      },
      "source": [
        "import komm\n",
        "import numpy as np\n",
        "code = komm.BCHCode(10,127)\n",
        "\n",
        "PARAMS_BCH_N = 1023\n",
        "PARAMS_BCH_K = 133"
      ],
      "execution_count": 14,
      "outputs": []
    },
    {
      "cell_type": "code",
      "metadata": {
        "id": "o8CfUq8yNI9b"
      },
      "source": [
        "import numpy as np\n",
        "\n",
        "PARAMS_M = PARAMS_BCH_N\n",
        "PARAMS_N = 128\n",
        "\n",
        "PARAMS_LOGQ = 8\n",
        "PARAMS_LOGL = 5\n",
        "PARAMS_LOGT = 4\n",
        "\n",
        "PARAMS_Q = 1 << PARAMS_LOGQ\n",
        "PARAMS_L = 1 << PARAMS_LOGL\n",
        "\n",
        "PARAMS_TRAINING_SET = 10\n",
        "PARAMS_FACTOR = 2.4"
      ],
      "execution_count": 15,
      "outputs": []
    },
    {
      "cell_type": "code",
      "metadata": {
        "id": "R1x9Cu40NPar"
      },
      "source": [
        "def EMBLEM_Encode(m, shift):\n",
        "    encm = ((m << 1) + 1) << (shift - 1);\n",
        "    return encm.reshape(PARAMS_M, 1);\n",
        "\n",
        "def EMBLEM_Decode(m, shift):\n",
        "    decm = m >> shift;\n",
        "    return decm.reshape(PARAMS_M, 1);"
      ],
      "execution_count": 16,
      "outputs": []
    },
    {
      "cell_type": "code",
      "metadata": {
        "id": "8MwtgBqTNPvI"
      },
      "source": [
        "from keras.models import load_model\n",
        "from keras.models import Model\n",
        "from keras.preprocessing import image\n",
        "from keras.applications.resnet50 import preprocess_input, decode_predictions\n",
        "import dlib, cv2\n",
        "\n",
        "detector = dlib.get_frontal_face_detector();\n",
        "sp = dlib.shape_predictor('/content/drive/MyDrive/Notebooks/shape_predictor_5_face_landmarks.dat')\n",
        "facerec = dlib.face_recognition_model_v1('/content/drive/MyDrive/Notebooks/dlib_face_recognition_resnet_model_v1.dat')\n",
        "\n",
        "\n",
        "def Setup():\n",
        "  A = np.random.randint(low = -PARAMS_L/2, high = PARAMS_L/2+1, size = PARAMS_N * PARAMS_M, dtype = int)\n",
        "  A.resize(PARAMS_M, PARAMS_N)\n",
        "\n",
        "  return A;\n",
        "\n",
        "def Encap(A, folder):\n",
        "  feature = np.zeros((PARAMS_TRAINING_SET, PARAMS_N));\n",
        "\n",
        "  for i in range(0,PARAMS_TRAINING_SET):    \n",
        "    tmp = dlib.load_rgb_image(folder + '/' + str(i) +'.jpg')\n",
        "    tmp_detection = detector(tmp, 1)\n",
        "    tmp_shape = sp(tmp, tmp_detection[0])\n",
        "    tmp_aligned = dlib.get_face_chip(tmp, tmp_shape);\n",
        "    feature[i] = facerec.compute_face_descriptor(tmp_aligned);\n",
        "  t = (feature.max(axis=0) - feature.min(axis=0));\n",
        "\n",
        "  for i in range(0,PARAMS_TRAINING_SET):\n",
        "    for j in range(0,PARAMS_N):\n",
        "      feature[i][j] = (feature[i][j] / (PARAMS_FACTOR * t[j]))\n",
        "  \n",
        "  b = feature.mean(axis=0).astype(int).reshape(PARAMS_N,1);\n",
        "\n",
        "  m = np.random.randint(low = 0, high = 2, size = PARAMS_BCH_K, dtype = int);\n",
        "\n",
        "  encm = code.encode(m);\n",
        "  encm.reshape(PARAMS_M,1);\n",
        "\n",
        "  c = np.remainder(np.matmul(A,b) + EMBLEM_Encode(encm, PARAMS_LOGQ-1), PARAMS_Q);\n",
        "\n",
        "  c = (c + (1 << (PARAMS_LOGQ - PARAMS_LOGT - 1))) >> (PARAMS_LOGQ - PARAMS_LOGT);\n",
        "\n",
        "  return (t, c, m, b);\n",
        "\n",
        "def Decap(A, t, c, imgg):\n",
        "  tmp = dlib.load_rgb_image(imgg)\n",
        "  tmp_detection = detector(tmp, 1)\n",
        "  tmp_shape = sp(tmp, tmp_detection[0])\n",
        "  tmp_aligned = dlib.get_face_chip(tmp, tmp_shape);\n",
        "  feature = facerec.compute_face_descriptor(tmp_aligned);\n",
        "\n",
        "  for j in range(0,PARAMS_N):\n",
        "    feature[j] = (feature[j] / (PARAMS_FACTOR  * t[j]))\n",
        "\n",
        "  bprime = np.array(feature).reshape(PARAMS_N,1).astype(int);\n",
        "\n",
        "  c = c << (PARAMS_LOGQ - PARAMS_LOGT);\n",
        "  cprime = np.remainder(c - np.matmul(A, bprime), PARAMS_Q)\n",
        "  decm = EMBLEM_Decode(cprime, PARAMS_LOGQ-1).reshape(PARAMS_M)\n",
        "  mprime = code.decode(decm);\n",
        "  return (mprime, bprime);"
      ],
      "execution_count": 20,
      "outputs": []
    },
    {
      "cell_type": "code",
      "metadata": {
        "id": "vYGZm_siNR2A"
      },
      "source": [
        "A = Setup();"
      ],
      "execution_count": 21,
      "outputs": []
    },
    {
      "cell_type": "code",
      "metadata": {
        "id": "LNZJcTN-NR-f"
      },
      "source": [
        "(t, c, m, b) = Encap(A, '/content/drive/MyDrive/Notebooks/face/input/1');"
      ],
      "execution_count": 22,
      "outputs": []
    },
    {
      "cell_type": "code",
      "metadata": {
        "colab": {
          "base_uri": "https://localhost:8080/"
        },
        "id": "_BMWFuTrgMVh",
        "outputId": "a91b5099-7535-4003-e490-62652365ca12"
      },
      "source": [
        "b.reshape(PARAMS_N)"
      ],
      "execution_count": 23,
      "outputs": [
        {
          "output_type": "execute_result",
          "data": {
            "text/plain": [
              "array([ 0,  0,  0,  0,  0,  0,  0, -1,  0, -1,  3,  0, -2, -1,  0,  3, -1,\n",
              "       -2,  0,  0,  0,  0,  0,  0, -1, -2, -1,  0,  0,  0,  0,  0, -1,  0,\n",
              "        0,  0,  0,  0,  1,  0, -1,  0,  0,  3,  1,  0,  0, -1,  0, -1,  0,\n",
              "        1,  0,  2,  0,  0,  1,  0, -1,  0,  0,  0,  0,  0,  1,  0,  0, -3,\n",
              "        1, -3, -1,  0, -1, -1, -5,  0,  3,  2, -2,  0,  0,  0,  0,  1,  0,\n",
              "        0, -2,  0,  3, -1,  0,  4,  0,  0,  0,  0,  0,  0,  0,  0,  2,  0,\n",
              "        0,  0,  0,  1,  0,  0,  0,  0, -2,  0,  0, -2,  3,  1,  0,  0,  1,\n",
              "        0,  0,  0, -2,  0,  1,  0,  0,  0])"
            ]
          },
          "metadata": {
            "tags": []
          },
          "execution_count": 23
        }
      ]
    },
    {
      "cell_type": "code",
      "metadata": {
        "colab": {
          "base_uri": "https://localhost:8080/"
        },
        "id": "qEyQ5AnQhLeV",
        "outputId": "a1320f9c-1012-4849-e019-171c093a7153"
      },
      "source": [
        "for i in range(0,16):\n",
        "  (mprime, bprime)= Decap(A, t, c, '/content/drive/MyDrive/Notebooks/face/input/1/'+ str(i) + '.jpg');\n",
        "  print('============================================================================')\n",
        "  print('comparision ' + str(i));\n",
        "  #print('result :' + str(np.sum(np.abs(m - mprime))));\n",
        "  #print('bprime :' + str(bprime.reshape(PARAMS_N)))\n",
        "  #print('b - bprime :' + str(b.reshape(PARAMS_N) - bprime.reshape(PARAMS_N)))\n",
        "  cc = np.remainder(np.matmul(A, bprime),PARAMS_Q) >> (PARAMS_LOGQ - 2);\n",
        "  print(np.histogram(cc, bins = np.arange(5)))"
      ],
      "execution_count": 26,
      "outputs": [
        {
          "output_type": "stream",
          "text": [
            "============================================================================\n",
            "comparision 0\n",
            "(array([260, 254, 239, 270]), array([0, 1, 2, 3, 4]))\n",
            "============================================================================\n",
            "comparision 1\n",
            "(array([256, 252, 247, 268]), array([0, 1, 2, 3, 4]))\n",
            "============================================================================\n",
            "comparision 2\n",
            "(array([253, 258, 231, 281]), array([0, 1, 2, 3, 4]))\n",
            "============================================================================\n",
            "comparision 3\n",
            "(array([251, 253, 230, 289]), array([0, 1, 2, 3, 4]))\n",
            "============================================================================\n",
            "comparision 4\n",
            "(array([249, 255, 230, 289]), array([0, 1, 2, 3, 4]))\n",
            "============================================================================\n",
            "comparision 5\n",
            "(array([256, 271, 228, 268]), array([0, 1, 2, 3, 4]))\n",
            "============================================================================\n",
            "comparision 6\n",
            "(array([251, 253, 253, 266]), array([0, 1, 2, 3, 4]))\n",
            "============================================================================\n",
            "comparision 7\n",
            "(array([251, 226, 260, 286]), array([0, 1, 2, 3, 4]))\n",
            "============================================================================\n",
            "comparision 8\n",
            "(array([256, 249, 247, 271]), array([0, 1, 2, 3, 4]))\n",
            "============================================================================\n",
            "comparision 9\n",
            "(array([251, 245, 239, 288]), array([0, 1, 2, 3, 4]))\n",
            "============================================================================\n",
            "comparision 10\n",
            "(array([255, 259, 231, 278]), array([0, 1, 2, 3, 4]))\n",
            "============================================================================\n",
            "comparision 11\n",
            "(array([247, 255, 235, 286]), array([0, 1, 2, 3, 4]))\n",
            "============================================================================\n",
            "comparision 12\n",
            "(array([242, 249, 247, 285]), array([0, 1, 2, 3, 4]))\n",
            "============================================================================\n",
            "comparision 13\n",
            "(array([257, 266, 232, 268]), array([0, 1, 2, 3, 4]))\n",
            "============================================================================\n",
            "comparision 14\n",
            "(array([255, 259, 231, 278]), array([0, 1, 2, 3, 4]))\n",
            "============================================================================\n",
            "comparision 15\n",
            "(array([254, 261, 232, 276]), array([0, 1, 2, 3, 4]))\n"
          ],
          "name": "stdout"
        }
      ]
    },
    {
      "cell_type": "code",
      "metadata": {
        "colab": {
          "base_uri": "https://localhost:8080/"
        },
        "id": "aOw9Zd1SjvbX",
        "outputId": "824e6107-0960-436f-82ad-a0b0dc5d3647"
      },
      "source": [
        "3for i in range(0,6):\n",
        "  (mprime, bprime)= Decap(A, t, c, '/content/drive/MyDrive/Notebooks/face/input/2/'+ str(i) + '.jpg');\n",
        "  print('============================================================================')\n",
        "  print('comparision ' + str(i));\n",
        "  print('result :' + str(np.sum(np.abs(m - mprime))));\n",
        "  print('bprime :' + str(bprime.reshape(PARAMS_N)))\n",
        "  print('b - bprime :' + str(b.reshape(PARAMS_N) - bprime.reshape(PARAMS_N)))"
      ],
      "execution_count": null,
      "outputs": [
        {
          "output_type": "stream",
          "text": [
            "============================================================================\n",
            "comparision 0\n",
            "result :35\n",
            "bprime :[ 0  0  0  0  0  0 -1  0  0 -1  3  0 -1  0  0  3 -3 -2  0  0  0  0  0  0\n",
            "  0 -1 -1  0  0  0  0  0 -1  0  1  1  0  0  0  0 -1  0  1  2  1  0  0 -1\n",
            "  0 -1  0  1  0  1  1  0  0  0  0  0  0  0  0  0  1  0 -1 -3  1 -2 -1  0\n",
            " -1 -1 -5  0  2  1 -1  0  0  0  0  1  0  0 -1  0  3  0  0  1  0  0  0  0\n",
            "  0  0  0  0  0  0  0  0  0  0  0  0  0  0 -2  0  0 -2  2  1  0  0  1  0\n",
            "  0  0 -3  0  0  0  1  0]\n",
            "b - bprime :[ 0  0  0  0  0  0  1  0  0  0 -1  0  0  0  0  0  2  0  0  0  0  0  0  0\n",
            " -1  0  1  0  0  0  0  0  0  0 -1 -1  0  0  0  0  0  0 -1  0  0  0  0  0\n",
            "  0  0  0  0  0  0 -1  0  1  0  0  0  0  0  0  0  0  0  1  1  0 -1  0  0\n",
            "  0  0  1  0  0  1  0  0  0  0  0  0  0  0  0  0 -1 -1  0  2  0  0  0  0\n",
            "  0  0  0  0  1  0  0  0  0  1  0  0  0  0  0  0  0  0  0  0  0  0 -1  0\n",
            "  0  0  0  0  0  0 -1  0]\n",
            "============================================================================\n",
            "comparision 1\n",
            "result :34\n",
            "bprime :[ 0  0  0  0  0  0 -1 -1  0 -1  3  0 -1  0  0  3 -3 -2  0  0  0  0  0  0\n",
            " -1 -1 -1  0  0  0  0  0 -1  0  1  1  0  0  1  0 -1  0  1  2  1  0  0 -1\n",
            "  0 -1  0  1  0  1  0 -1  0  0  0  0  0  0  0  0  1  0  0 -4  1 -2 -1  0\n",
            " -1 -1 -5  0  2  1 -1  0  0  0  0  1  0  0 -1  0  2  0  0  1  0  0  1  0\n",
            "  0  0 -1  0  0  0  0  0  0  0  0  0  0  0 -2  0  0 -2  2  1  0  0  1  0\n",
            "  0  0 -3  0  0  0  1  0]\n",
            "b - bprime :[ 0  0  0  0  0  0  1  1  0  0 -1  0  0  0  0  0  2  0  0  0  0  0  0  0\n",
            "  0  0  1  0  0  0  0  0  0  0 -1 -1  0  0 -1  0  0  0 -1  0  0  0  0  0\n",
            "  0  0  0  0  0  0  0  1  1  0  0  0  0  0  0  0  0  0  0  2  0 -1  0  0\n",
            "  0  0  1  0  0  1  0  0  0  0  0  0  0  0  0  0  0 -1  0  2  0  0 -1  0\n",
            "  0  0  1  0  1  0  0  0  0  1  0  0  0  0  0  0  0  0  0  0  0  0 -1  0\n",
            "  0  0  0  0  0  0 -1  0]\n",
            "============================================================================\n",
            "comparision 2\n",
            "result :33\n",
            "bprime :[ 0  0  0  0  0  0  0  0  0 -1  3  0 -1  0  0  3 -3 -2  0  0  0  0  0  0\n",
            " -1 -1 -1  0  0  0  0  0 -1  0  1  1  0  0  0  0 -1  0  1  2  1  0  0 -1\n",
            "  0 -1  0  1  0  1  1 -1  0  0  0  0  0  0  0  0  1  0  0 -4  1 -3 -2  0\n",
            " -1 -1 -5  0  2  1 -1  0  0  0  0  1  0  0 -2  0  2  0 -1  2  0  1  0  0\n",
            "  0  0 -1  0  0  0  0  0  0  0  0  0  0  0 -2  0  0 -2  2  1  0  0  1  0\n",
            "  0  0 -3  0  0  0  1  0]\n",
            "b - bprime :[ 0  0  0  0  0  0  0  0  0  0 -1  0  0  0  0  0  2  0  0  0  0  0  0  0\n",
            "  0  0  1  0  0  0  0  0  0  0 -1 -1  0  0  0  0  0  0 -1  0  0  0  0  0\n",
            "  0  0  0  0  0  0 -1  1  1  0  0  0  0  0  0  0  0  0  0  2  0  0  1  0\n",
            "  0  0  1  0  0  1  0  0  0  0  0  0  0  0  1  0  0 -1  1  1  0 -1  0  0\n",
            "  0  0  1  0  1  0  0  0  0  1  0  0  0  0  0  0  0  0  0  0  0  0 -1  0\n",
            "  0  0  0  0  0  0 -1  0]\n",
            "============================================================================\n",
            "comparision 3\n",
            "result :37\n",
            "bprime :[ 0  0  0 -1  0  0  0  0  0 -1  3  0 -1  0  0  3 -3 -2  0  0  0  0  0  0\n",
            "  0 -1 -1  0  0  0  0  0 -1  0  1  1  0  0  0  0 -1  0  1  2  1  0  0 -1\n",
            "  0 -1  0  1  0  1  0 -1  0  0  0  0  0  0  0  0  1  0 -1 -4  1 -2 -1  0\n",
            " -1 -1 -5  0  2  1 -1  0  0  0  0  1  0  0 -1  0  3  0  0  1  0  0  0  0\n",
            "  0  0  0  0  0  0  0  0  0  0  0  0  0  0 -2  0  0 -2  3  1  0  0  1  0\n",
            "  0  0 -2  0  0  0  1  0]\n",
            "b - bprime :[ 0  0  0  1  0  0  0  0  0  0 -1  0  0  0  0  0  2  0  0  0  0  0  0  0\n",
            " -1  0  1  0  0  0  0  0  0  0 -1 -1  0  0  0  0  0  0 -1  0  0  0  0  0\n",
            "  0  0  0  0  0  0  0  1  1  0  0  0  0  0  0  0  0  0  1  2  0 -1  0  0\n",
            "  0  0  1  0  0  1  0  0  0  0  0  0  0  0  0  0 -1 -1  0  2  0  0  0  0\n",
            "  0  0  0  0  1  0  0  0  0  1  0  0  0  0  0  0  0  0 -1  0  0  0 -1  0\n",
            "  0  0 -1  0  0  0 -1  0]\n",
            "============================================================================\n",
            "comparision 4\n",
            "result :42\n",
            "bprime :[ 0  0  0 -1  0  0 -1  0  0 -1  3  0 -1  0  0  3 -3 -2  0  0  0  0  0  0\n",
            "  0 -1 -1  0  0  0  0  0 -1  0  1  1  0  0  0  0 -1  0  1  2  1  0  0 -1\n",
            "  0 -1  0  1  0  1  0  0  0  0  0  0  0  0  0  0  1  0 -1 -4  1 -2 -1  0\n",
            " -1 -1 -5  0  2  1 -1  0  0  0  0  1  0  0 -1  0  3  0  0  1  0  0  0  0\n",
            "  0  0  0  0  0  0  0  0  0  0  0  0  0  0 -2  0  0 -2  3  1  0  0  1  0\n",
            "  0  0 -2  0  0  0  1  0]\n",
            "b - bprime :[ 0  0  0  1  0  0  1  0  0  0 -1  0  0  0  0  0  2  0  0  0  0  0  0  0\n",
            " -1  0  1  0  0  0  0  0  0  0 -1 -1  0  0  0  0  0  0 -1  0  0  0  0  0\n",
            "  0  0  0  0  0  0  0  0  1  0  0  0  0  0  0  0  0  0  1  2  0 -1  0  0\n",
            "  0  0  1  0  0  1  0  0  0  0  0  0  0  0  0  0 -1 -1  0  2  0  0  0  0\n",
            "  0  0  0  0  1  0  0  0  0  1  0  0  0  0  0  0  0  0 -1  0  0  0 -1  0\n",
            "  0  0 -1  0  0  0 -1  0]\n",
            "============================================================================\n",
            "comparision 5\n",
            "result :35\n",
            "bprime :[ 0  0  0 -1  0  0  0  0  0 -1  3  0 -1  0  0  3 -3 -2  0  0  0  0  0  0\n",
            " -1 -1 -1  0  0  0  0  0 -1  0  1  1  0  0  0  0 -1  0  0  2  1  0  0 -1\n",
            "  0 -1  0  1  0  1  0  0  0  0  0  0  0  0  0  0  1  0 -1 -4  1 -2 -1  0\n",
            " -1 -1 -5  0  2  1 -1  0  0 -1  0  1  0  0 -1  0  3  0  0  1  0  0  0  0\n",
            "  0  0  0  0  0  0  0  0  0  0  0  0  0  0 -2  0  0 -3  2  1  0  0  1  0\n",
            "  0  0 -2  0  0  0  1  0]\n",
            "b - bprime :[ 0  0  0  1  0  0  0  0  0  0 -1  0  0  0  0  0  2  0  0  0  0  0  0  0\n",
            "  0  0  1  0  0  0  0  0  0  0 -1 -1  0  0  0  0  0  0  0  0  0  0  0  0\n",
            "  0  0  0  0  0  0  0  0  1  0  0  0  0  0  0  0  0  0  1  2  0 -1  0  0\n",
            "  0  0  1  0  0  1  0  0  0  1  0  0  0  0  0  0 -1 -1  0  2  0  0  0  0\n",
            "  0  0  0  0  1  0  0  0  0  1  0  0  0  0  0  0  0  1  0  0  0  0 -1  0\n",
            "  0  0 -1  0  0  0 -1  0]\n"
          ],
          "name": "stdout"
        }
      ]
    },
    {
      "cell_type": "code",
      "metadata": {
        "colab": {
          "base_uri": "https://localhost:8080/"
        },
        "id": "MSLuqB05n5RO",
        "outputId": "0cb5cc8f-0f82-490f-c0dd-7a9cfac1ffb5"
      },
      "source": [
        "for i in range(0,10):\n",
        "  (mprime, bprime)= Decap(A, t, c, '/content/drive/MyDrive/Notebooks/face/input/3/'+ str(i) + '.jpg');\n",
        "  print('============================================================================')\n",
        "  print('comparision ' + str(i));\n",
        "  print('result :' + str(np.sum(np.abs(m - mprime))));\n",
        "  print('bprime :' + str(bprime.reshape(PARAMS_N)))\n",
        "  print('b - bprime :' + str(b.reshape(PARAMS_N) - bprime.reshape(PARAMS_N)))"
      ],
      "execution_count": null,
      "outputs": [
        {
          "output_type": "stream",
          "text": [
            "============================================================================\n",
            "comparision 0\n",
            "result :38\n",
            "bprime :[ 0  0  0  0  0  0  0 -1  0 -1  3  0 -1 -1  0  4 -2 -2  0  0  0  0  0  0\n",
            "  0 -1 -1  0  0  0 -1  0 -1  0  0  0  0  0  0  0 -1  0  0  2  1  0  0  0\n",
            "  0 -1  0  0  0  0  0 -1  0  0  0  0  0  0  0 -1  1  0  0 -3  1 -1  0  0\n",
            " -1 -1 -4  0  2  1 -1  0  0  0  0  1  0  0 -1  0  1  0  0  2 -1  0  0  0\n",
            "  0  2  0  0  2  0  0  0  0  0  0  0  0  0 -2  0  0 -3  3  1  0  0  1  0\n",
            "  0  0 -2  0  0 -1  0  0]\n",
            "b - bprime :[ 0  0  0  0  0  0  0  1  0  0 -1  0  0  1  0 -1  1  0  0  0  0  0  0  0\n",
            " -1  0  1  0  0  0  1  0  0  0  0  0  0  0  0  0  0  0  0  0  0  0  0 -1\n",
            "  0  0  0  1  0  1  0  1  1  0  0  0  0  0  0  1  0  0  0  1  0 -2 -1  0\n",
            "  0  0  0  0  0  1  0  0  0  0  0  0  0  0  0  0  1 -1  0  1  1  0  0  0\n",
            "  0 -2  0  0 -1  0  0  0  0  1  0  0  0  0  0  0  0  1 -1  0  0  0 -1  0\n",
            "  0  0 -1  0  0  1  0  0]\n",
            "============================================================================\n",
            "comparision 1\n",
            "result :34\n",
            "bprime :[ 0  0  0  0  0  0  0 -1  0 -1  3  0 -1 -1  0  4 -2 -2  0  0  0  0  0  0\n",
            "  0 -1 -1  0  0  0 -1  0 -1  0  0  0  0 -1  0  0 -1  0  0  2  0  0  0  0\n",
            "  0 -1  0  0  0  0  0 -1  0  0  0  0  0  0  0 -1  2  0  0 -3  1 -1  0  0\n",
            " -1 -1 -4  0  2  1 -1  0  0  0  0  1  0  0 -1  0  1  0  0  2 -1  0  0  0\n",
            "  0  1  0  0  2  0  0  0  0  0  0  0  0  0 -2  0  0 -3  3  1  0  0  1  0\n",
            "  0  0 -2  0  0  0  0  0]\n",
            "b - bprime :[ 0  0  0  0  0  0  0  1  0  0 -1  0  0  1  0 -1  1  0  0  0  0  0  0  0\n",
            " -1  0  1  0  0  0  1  0  0  0  0  0  0  1  0  0  0  0  0  0  1  0  0 -1\n",
            "  0  0  0  1  0  1  0  1  1  0  0  0  0  0  0  1 -1  0  0  1  0 -2 -1  0\n",
            "  0  0  0  0  0  1  0  0  0  0  0  0  0  0  0  0  1 -1  0  1  1  0  0  0\n",
            "  0 -1  0  0 -1  0  0  0  0  1  0  0  0  0  0  0  0  1 -1  0  0  0 -1  0\n",
            "  0  0 -1  0  0  0  0  0]\n",
            "============================================================================\n",
            "comparision 2\n",
            "result :38\n",
            "bprime :[ 0  0  0  0  0  0  0 -1  0 -1  3  0 -1 -1  0  4 -3 -2  0  0  0  0  0  0\n",
            "  0 -1 -1  0  0  0 -1  0 -1  0  0  0  0  0  0  0 -1  0  0  2  1  0  0 -1\n",
            "  0 -1  0  0  0  0  0 -1  0  0  0  0  0  0  0 -1  2  0  0 -3  1 -1  0  0\n",
            " -1 -1 -4  0  2  1 -1  0  0  0  0  1  0  0 -1  0  1  0  0  2 -1  0  0  0\n",
            "  0  2  0  0  1  0  0  0  0  0  0  0  0  0 -1  0  0 -3  3  1  0  0  1  0\n",
            "  0  0 -2  0  0  0  0  0]\n",
            "b - bprime :[ 0  0  0  0  0  0  0  1  0  0 -1  0  0  1  0 -1  2  0  0  0  0  0  0  0\n",
            " -1  0  1  0  0  0  1  0  0  0  0  0  0  0  0  0  0  0  0  0  0  0  0  0\n",
            "  0  0  0  1  0  1  0  1  1  0  0  0  0  0  0  1 -1  0  0  1  0 -2 -1  0\n",
            "  0  0  0  0  0  1  0  0  0  0  0  0  0  0  0  0  1 -1  0  1  1  0  0  0\n",
            "  0 -2  0  0  0  0  0  0  0  1  0  0  0  0 -1  0  0  1 -1  0  0  0 -1  0\n",
            "  0  0 -1  0  0  0  0  0]\n",
            "============================================================================\n",
            "comparision 3\n",
            "result :38\n",
            "bprime :[ 0  0  0  0 -1  0  0 -1  0 -1  3  0 -1  0  0  4 -3 -2  0  0  0  0  0  0\n",
            " -1 -1 -1  0  0  0  0  0 -1  0  0  0  0 -1  0  0 -1  0  0  2  1  0  0  0\n",
            "  0 -1  0  0  0  0  1 -1  0  0  0  0  0  0  0 -1  2  0  0 -2  1 -1  0  0\n",
            " -1 -1 -4  0  2  1 -1  0  0  0  0  1  0  0 -1  0  1  0  0  3 -1  0  0  0\n",
            " -1  1  0  0  1  0  0  0  0  0  0  0  0  0 -2  0  0 -3  3  1  0  0  1  0\n",
            "  0  0 -2  0  0  0  0  0]\n",
            "b - bprime :[ 0  0  0  0  1  0  0  1  0  0 -1  0  0  0  0 -1  2  0  0  0  0  0  0  0\n",
            "  0  0  1  0  0  0  0  0  0  0  0  0  0  1  0  0  0  0  0  0  0  0  0 -1\n",
            "  0  0  0  1  0  1 -1  1  1  0  0  0  0  0  0  1 -1  0  0  0  0 -2 -1  0\n",
            "  0  0  0  0  0  1  0  0  0  0  0  0  0  0  0  0  1 -1  0  0  1  0  0  0\n",
            "  1 -1  0  0  0  0  0  0  0  1  0  0  0  0  0  0  0  1 -1  0  0  0 -1  0\n",
            "  0  0 -1  0  0  0  0  0]\n",
            "============================================================================\n",
            "comparision 4\n",
            "result :40\n",
            "bprime :[ 0  0  0  0  0  0  0 -1  0 -1  3  0 -1 -1  0  4 -3 -2  0  0  0  0  0  0\n",
            "  0 -1 -1  0  0  0  0  0 -1  0  0  0  0 -1  0  0 -1  0  0  2  0  0  0  0\n",
            "  0 -1  0  0  0  0  0 -1  0  0  0  0  0  0  0 -1  2  0  0 -2  1 -1  0  0\n",
            " -1 -1 -4  0  2  1 -1  0  0  0  0  1  0  0 -1  0  1 -1  0  2 -1  0  0  0\n",
            "  0  1  0  0  2  0  0  0  0  0  0  0  0  0 -2  0  0 -3  3  1  0  0  1  0\n",
            "  0  0 -2  0  0  0  0  0]\n",
            "b - bprime :[ 0  0  0  0  0  0  0  1  0  0 -1  0  0  1  0 -1  2  0  0  0  0  0  0  0\n",
            " -1  0  1  0  0  0  0  0  0  0  0  0  0  1  0  0  0  0  0  0  1  0  0 -1\n",
            "  0  0  0  1  0  1  0  1  1  0  0  0  0  0  0  1 -1  0  0  0  0 -2 -1  0\n",
            "  0  0  0  0  0  1  0  0  0  0  0  0  0  0  0  0  1  0  0  1  1  0  0  0\n",
            "  0 -1  0  0 -1  0  0  0  0  1  0  0  0  0  0  0  0  1 -1  0  0  0 -1  0\n",
            "  0  0 -1  0  0  0  0  0]\n",
            "============================================================================\n",
            "comparision 5\n",
            "result :38\n",
            "bprime :[ 0  0  0  0  0  0  0 -1  0 -1  3  0 -1 -1  0  4 -3 -2  0  0  0  0  0  0\n",
            " -1 -2 -1  0  0  0 -1  0 -1  0  0  0  0  0  0  0 -1  0  0  2  0  0  1  0\n",
            "  0 -1  0  0  0  0  1 -1  0  0  0  0  0  0  0 -1  2  0  0 -3  1 -1  0  0\n",
            " -1 -1 -4  0  2  1 -1  0  0  0  0  1  0  0 -1  0  2  0  0  2 -1  0  0  0\n",
            "  0  2  0  0  2  0  0  0  0  0  0  0  0  0 -2  0  0 -3  2  1  0  0  1  0\n",
            "  0  0 -3  0  0 -1  0  0]\n",
            "b - bprime :[ 0  0  0  0  0  0  0  1  0  0 -1  0  0  1  0 -1  2  0  0  0  0  0  0  0\n",
            "  0  1  1  0  0  0  1  0  0  0  0  0  0  0  0  0  0  0  0  0  1  0 -1 -1\n",
            "  0  0  0  1  0  1 -1  1  1  0  0  0  0  0  0  1 -1  0  0  1  0 -2 -1  0\n",
            "  0  0  0  0  0  1  0  0  0  0  0  0  0  0  0  0  0 -1  0  1  1  0  0  0\n",
            "  0 -2  0  0 -1  0  0  0  0  1  0  0  0  0  0  0  0  1  0  0  0  0 -1  0\n",
            "  0  0  0  0  0  1  0  0]\n",
            "============================================================================\n",
            "comparision 6\n",
            "result :38\n",
            "bprime :[ 0  0  0  0 -1  0  0 -1  0 -1  3  0 -1 -1  0  4 -2 -2  0  0  0  0  0  0\n",
            "  0 -1 -1  0  0  0 -1  0 -1  0  0  0  0  0  0  0 -1  0  0  2  1  0  0  0\n",
            "  0 -1  0  0  0  0  0 -1  0  0  0  0  0  0  0 -1  2  0  0 -3  1 -1  0  0\n",
            " -1 -1 -4  0  2  1 -1  0  0  0  0  1  0  0 -1  0  1  0  0  2  0  0  0  0\n",
            "  0  2  0  0  2  0  0  0  0  0  0  0  0  0 -2  0  0 -3  3  1  0  0  1  0\n",
            "  0  0 -2  0  0  0  0  0]\n",
            "b - bprime :[ 0  0  0  0  1  0  0  1  0  0 -1  0  0  1  0 -1  1  0  0  0  0  0  0  0\n",
            " -1  0  1  0  0  0  1  0  0  0  0  0  0  0  0  0  0  0  0  0  0  0  0 -1\n",
            "  0  0  0  1  0  1  0  1  1  0  0  0  0  0  0  1 -1  0  0  1  0 -2 -1  0\n",
            "  0  0  0  0  0  1  0  0  0  0  0  0  0  0  0  0  1 -1  0  1  0  0  0  0\n",
            "  0 -2  0  0 -1  0  0  0  0  1  0  0  0  0  0  0  0  1 -1  0  0  0 -1  0\n",
            "  0  0 -1  0  0  0  0  0]\n",
            "============================================================================\n",
            "comparision 7\n",
            "result :39\n",
            "bprime :[ 0  0  0  0 -1  0  0 -1  0 -1  3  0 -1 -1  0  4 -3 -2  0  0  0  0  0  0\n",
            " -1 -1 -1  0  0  0  0  0 -1  0  0  0  0  0  0  0 -1  0  0  2  1  0  0  0\n",
            "  0 -1  0  0  0  0  1 -1  0  0  0  0  0  0  0 -1  2  0  0 -2  1 -1  0  0\n",
            " -1 -1 -4  0  2  1 -1  0  0  0  0  1  0  0 -1  0  1  0  0  2 -1  0  0  0\n",
            " -1  1  0  0  2  0  0  0  0  0  0  0  0  0 -2  0  0 -3  3  1  0  0  1  0\n",
            "  0  0 -2  0  0 -1  0  0]\n",
            "b - bprime :[ 0  0  0  0  1  0  0  1  0  0 -1  0  0  1  0 -1  2  0  0  0  0  0  0  0\n",
            "  0  0  1  0  0  0  0  0  0  0  0  0  0  0  0  0  0  0  0  0  0  0  0 -1\n",
            "  0  0  0  1  0  1 -1  1  1  0  0  0  0  0  0  1 -1  0  0  0  0 -2 -1  0\n",
            "  0  0  0  0  0  1  0  0  0  0  0  0  0  0  0  0  1 -1  0  1  1  0  0  0\n",
            "  1 -1  0  0 -1  0  0  0  0  1  0  0  0  0  0  0  0  1 -1  0  0  0 -1  0\n",
            "  0  0 -1  0  0  1  0  0]\n",
            "============================================================================\n",
            "comparision 8\n",
            "result :35\n",
            "bprime :[ 0  0  0 -1 -1  0  0 -1  0 -1  3  0 -1  0  0  4 -3 -2  0  0  0  0  0  0\n",
            "  0 -1 -1  0  0  0  0  0 -1  0  0  0  0  0  0  0 -1  0  0  2  1  0  0  0\n",
            "  0 -1  0  0  0  0  0 -1  0  0  0  0  0  0  0 -1  2  0  0 -2  1 -1  0  0\n",
            " -1 -1 -4  0  2  1 -1  0  0  0  0  1  0  0 -1  0  1  0  0  2 -1  0  0  0\n",
            "  0  1  0  0  1  0  0  0  0  0  0  0  0  0 -2  0  0 -3  3  1  0  0  1  0\n",
            "  0  0 -2  0  0 -1  0  0]\n",
            "b - bprime :[ 0  0  0  1  1  0  0  1  0  0 -1  0  0  0  0 -1  2  0  0  0  0  0  0  0\n",
            " -1  0  1  0  0  0  0  0  0  0  0  0  0  0  0  0  0  0  0  0  0  0  0 -1\n",
            "  0  0  0  1  0  1  0  1  1  0  0  0  0  0  0  1 -1  0  0  0  0 -2 -1  0\n",
            "  0  0  0  0  0  1  0  0  0  0  0  0  0  0  0  0  1 -1  0  1  1  0  0  0\n",
            "  0 -1  0  0  0  0  0  0  0  1  0  0  0  0  0  0  0  1 -1  0  0  0 -1  0\n",
            "  0  0 -1  0  0  1  0  0]\n",
            "============================================================================\n",
            "comparision 9\n",
            "result :44\n",
            "bprime :[ 0  0  0  0  0  0  0 -1  0 -1  3  0 -1 -1  0  4 -3 -2  0  0  0  0  0  0\n",
            " -1 -2 -1  0  0  0 -1  0 -1  0  0  0  0 -1  0  0 -1  0  0  2  0  0  1  0\n",
            "  0 -1  0  0  0  0  0 -1  0  0  0  0  0  0  0  0  2  0  0 -3  1 -1  0  0\n",
            " -1 -1 -4  0  2  1 -1  0  0  0  0  1  0  0 -1  0  2  0  0  2 -1  0  0  0\n",
            "  0  2  0  0  2  0  0  0  0  0  0  0  0  0 -2  0  0 -3  3  1  0  0  1  0\n",
            "  0  0 -2  0  0  0  0  0]\n",
            "b - bprime :[ 0  0  0  0  0  0  0  1  0  0 -1  0  0  1  0 -1  2  0  0  0  0  0  0  0\n",
            "  0  1  1  0  0  0  1  0  0  0  0  0  0  1  0  0  0  0  0  0  1  0 -1 -1\n",
            "  0  0  0  1  0  1  0  1  1  0  0  0  0  0  0  0 -1  0  0  1  0 -2 -1  0\n",
            "  0  0  0  0  0  1  0  0  0  0  0  0  0  0  0  0  0 -1  0  1  1  0  0  0\n",
            "  0 -2  0  0 -1  0  0  0  0  1  0  0  0  0  0  0  0  1 -1  0  0  0 -1  0\n",
            "  0  0 -1  0  0  0  0  0]\n"
          ],
          "name": "stdout"
        }
      ]
    },
    {
      "cell_type": "code",
      "metadata": {
        "id": "1VTlW0FSn8H2"
      },
      "source": [
        "cc = np.remainder(np.matmul(A, b),PARAMS_Q) >> (PARAMS_LOGQ - 2);"
      ],
      "execution_count": null,
      "outputs": []
    },
    {
      "cell_type": "code",
      "metadata": {
        "colab": {
          "base_uri": "https://localhost:8080/"
        },
        "id": "TVuxRIz2pBjk",
        "outputId": "93568eaa-eb2d-444c-eb4f-a580a18ff3a3"
      },
      "source": [
        "np.histogram(cc, bins = np.arange(5))"
      ],
      "execution_count": null,
      "outputs": [
        {
          "output_type": "execute_result",
          "data": {
            "text/plain": [
              "(array([271, 254, 231, 267]), array([0, 1, 2, 3, 4]))"
            ]
          },
          "metadata": {
            "tags": []
          },
          "execution_count": 25
        }
      ]
    },
    {
      "cell_type": "code",
      "metadata": {
        "id": "KZMPjVRYpDIy"
      },
      "source": [
        "cc = np.remainder(np.matmul(A, b),PARAMS_Q) >> (PARAMS_LOGQ - 2);\r\n",
        "np.histogram(cc, bins = np.arange(5))"
      ],
      "execution_count": null,
      "outputs": []
    }
  ]
}