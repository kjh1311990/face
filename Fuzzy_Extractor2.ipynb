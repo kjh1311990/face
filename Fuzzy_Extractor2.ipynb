{
  "nbformat": 4,
  "nbformat_minor": 0,
  "metadata": {
    "kernelspec": {
      "display_name": "Python 3",
      "language": "python",
      "name": "python3"
    },
    "language_info": {
      "codemirror_mode": {
        "name": "ipython",
        "version": 3
      },
      "file_extension": ".py",
      "mimetype": "text/x-python",
      "name": "python",
      "nbconvert_exporter": "python",
      "pygments_lexer": "ipython3",
      "version": "3.6.8"
    },
    "colab": {
      "name": "Fuzzy Extractor.ipynb",
      "provenance": [],
      "include_colab_link": true
    }
  },
  "cells": [
    {
      "cell_type": "markdown",
      "metadata": {
        "id": "view-in-github",
        "colab_type": "text"
      },
      "source": [
        "<a href=\"https://colab.research.google.com/github/kjh1311990/face/blob/main/Fuzzy_Extractor2.ipynb\" target=\"_parent\"><img src=\"https://colab.research.google.com/assets/colab-badge.svg\" alt=\"Open In Colab\"/></a>"
      ]
    },
    {
      "cell_type": "code",
      "metadata": {
        "id": "dVgvVme-XNKI",
        "colab": {
          "base_uri": "https://localhost:8080/"
        },
        "outputId": "3c9b3147-7689-47f6-e797-3be63099b18e"
      },
      "source": [
        "from google.colab import drive\n",
        "drive.mount('/content/drive')\n",
        "\n",
        "!pip install komm"
      ],
      "execution_count": 1,
      "outputs": [
        {
          "output_type": "stream",
          "text": [
            "Mounted at /content/drive\n",
            "Collecting komm\n",
            "\u001b[?25l  Downloading https://files.pythonhosted.org/packages/82/04/84feeedc76030c680b0dcc8ea968f3356bd3539639642b44feac3d304c93/komm-0.7.1.tar.gz (50kB)\n",
            "\u001b[K     |████████████████████████████████| 51kB 2.7MB/s \n",
            "\u001b[?25hRequirement already satisfied: numpy in /usr/local/lib/python3.6/dist-packages (from komm) (1.18.5)\n",
            "Requirement already satisfied: scipy in /usr/local/lib/python3.6/dist-packages (from komm) (1.4.1)\n",
            "Building wheels for collected packages: komm\n",
            "  Building wheel for komm (setup.py) ... \u001b[?25l\u001b[?25hdone\n",
            "  Created wheel for komm: filename=komm-0.7.1-cp36-none-any.whl size=56607 sha256=3baf708304b6982f3fc47b367aafd34578508061a5692c079d55be4854893398\n",
            "  Stored in directory: /root/.cache/pip/wheels/22/1e/97/4a65e9a6e202aa360d36ec6a822b31cea491e2ec55788cf71f\n",
            "Successfully built komm\n",
            "Installing collected packages: komm\n",
            "Successfully installed komm-0.7.1\n"
          ],
          "name": "stdout"
        }
      ]
    },
    {
      "cell_type": "code",
      "metadata": {
        "id": "G_TyA1SvyOGK"
      },
      "source": [
        "import komm\n",
        "import numpy as np\n",
        "code = komm.BCHCode(11,365)\n",
        "\n",
        "PARAMS_BCH_N = 2047\n",
        "PARAMS_BCH_K = 133"
      ],
      "execution_count": 2,
      "outputs": []
    },
    {
      "cell_type": "code",
      "metadata": {
        "id": "MAi06PmTyJ0D"
      },
      "source": [
        "import numpy as np\n",
        "\n",
        "PARAMS_M = PARAMS_BCH_N\n",
        "PARAMS_N = 512\n",
        "\n",
        "PARAMS_LOGQ = 9\n",
        "PARAMS_LOGL = 6\n",
        "PARAMS_LOGT = 2\n",
        "\n",
        "PARAMS_Q = 1 << PARAMS_LOGQ\n",
        "PARAMS_L = 1 << PARAMS_LOGL\n",
        "\n",
        "PARAMS_TRAINING_SET = 8\n",
        "PARAMS_FACTOR = 1.5"
      ],
      "execution_count": 3,
      "outputs": []
    },
    {
      "cell_type": "code",
      "metadata": {
        "id": "zWBXNiiaXNKJ"
      },
      "source": [
        "def EMBLEM_Encode(m, shift):\n",
        "    encm = ((m << 1) + 1) << (shift - 1);\n",
        "    return encm.reshape(PARAMS_M, 1);\n",
        "\n",
        "def EMBLEM_Decode(m, shift):\n",
        "    decm = m >> shift;\n",
        "    return decm.reshape(PARAMS_M, 1);"
      ],
      "execution_count": 4,
      "outputs": []
    },
    {
      "cell_type": "code",
      "metadata": {
        "id": "2p5RL0T69Zry"
      },
      "source": [
        "from keras.models import load_model\n",
        "from keras.models import Model\n",
        "from keras.preprocessing import image\n",
        "from keras.applications.resnet50 import preprocess_input, decode_predictions\n",
        "import dlib, cv2\n",
        "\n",
        "def Setup():\n",
        "  A = np.random.randint(low = -PARAMS_L/2, high = PARAMS_L/2+1, size = PARAMS_N * PARAMS_M, dtype = int)\n",
        "  A.resize(PARAMS_M, PARAMS_N)\n",
        "\n",
        "  model = load_model('/content/drive/MyDrive/Notebooks/weights.h5')\n",
        "  model2 = Model(model.input, model.layers[-2].output)\n",
        "\n",
        "  return (A, model2);\n",
        "\n",
        "def Encap(A, model, folder):\n",
        "  img = np.zeros((PARAMS_TRAINING_SET,224,224,3));\n",
        "  feature = np.zeros((PARAMS_TRAINING_SET,512));\n",
        "\n",
        "  for i in range(0,PARAMS_TRAINING_SET):\n",
        "    \n",
        "    detector = dlib.get_frontal_face_detector();\n",
        "    sp = dlib.shape_predictor('/content/drive/MyDrive/Notebooks/shape_predictor_5_face_landmarks.dat')\n",
        "    tmp = dlib.load_rgb_image(folder + '/' + str(i) +'.jpg')\n",
        "    tmp_detection = detector(tmp, 1)\n",
        "    tmp_shape = sp(tmp, tmp_detection[0])\n",
        "    tmp_aligned = dlib.get_face_chip(tmp, tmp_shape)\n",
        "    tmp_aligned = cv2.cvtColor(tmp_aligned, cv2.COLOR_BGR2RGB)\n",
        "    cv2.imwrite('tmp.jpg', tmp_aligned)\n",
        "\n",
        "    img[i] = image.load_img('tmp.jpg', target_size=(224, 224))\n",
        "    x = image.img_to_array(img[i]);\n",
        "    x = np.expand_dims(x, axis=0);\n",
        "    x = preprocess_input(x);\n",
        "    feature[i] = model.predict(x);\n",
        "    !rm tmp.jpg\n",
        "  t = (feature.max(axis=0) - feature.min(axis=0));\n",
        "\n",
        "  for i in range(0,PARAMS_TRAINING_SET):\n",
        "    for j in range(0,512):\n",
        "      if t[j] > 1:\n",
        "        feature[i][j] = (feature[i][j] / (PARAMS_FACTOR * t[j]))\n",
        "\n",
        "  #feature = feature.astype(int);\n",
        "\n",
        "  \n",
        "  b = feature.mean(axis=0).astype(int).reshape(PARAMS_N,1);\n",
        "  #b = feature[0]\n",
        "\n",
        "  m = np.random.randint(low = 0, high = 2, size = PARAMS_BCH_K, dtype = int);\n",
        "\n",
        "  encm = code.encode(m);\n",
        "  encm.reshape(PARAMS_M,1);\n",
        "\n",
        "  c = np.remainder(np.matmul(A,b) + EMBLEM_Encode(encm, PARAMS_LOGQ-1), PARAMS_Q);\n",
        "\n",
        "\n",
        "  c = (c + (1 << (PARAMS_LOGQ - PARAMS_LOGT - 1))) >> (PARAMS_LOGQ - PARAMS_LOGT);\n",
        "\n",
        "  return (t, c, m, b)\n",
        "\n",
        "def Decap(A, model, t, c, imgg):\n",
        "\n",
        "  detector = dlib.get_frontal_face_detector();\n",
        "  sp = dlib.shape_predictor('/content/drive/MyDrive/Notebooks/shape_predictor_5_face_landmarks.dat')\n",
        "  tmp = dlib.load_rgb_image(imgg)\n",
        "  tmp_detection = detector(tmp, 1)\n",
        "  tmp_shape = sp(tmp, tmp_detection[0])\n",
        "  tmp_aligned = dlib.get_face_chip(tmp, tmp_shape)\n",
        "  tmp_aligned = cv2.cvtColor(tmp_aligned, cv2.COLOR_BGR2RGB)\n",
        "  cv2.imwrite('tmp.jpg', tmp_aligned)\n",
        "\n",
        "  img = image.load_img('tmp.jpg', target_size=(224, 224))\n",
        "  !rm tmp.jpg\n",
        "  \n",
        "  x = image.img_to_array(img);\n",
        "  x = np.expand_dims(x, axis=0);\n",
        "  x = preprocess_input(x);\n",
        "  feature = model.predict(x);\n",
        "  feature = feature.reshape(PARAMS_N,1);\n",
        "\n",
        "  for j in range(0,512):\n",
        "    if t[j] > 1:\n",
        "      feature[j] = (feature[j] / (PARAMS_FACTOR  * t[j]))\n",
        "\n",
        "  bprime = feature.astype(int);\n",
        "\n",
        "  c = c << (PARAMS_LOGQ - PARAMS_LOGT);\n",
        "  cprime = np.remainder(c - np.matmul(A, bprime), PARAMS_Q)\n",
        "  decm = EMBLEM_Decode(cprime, PARAMS_LOGQ-1).reshape(PARAMS_M)\n",
        "  mprime = code.decode(decm);\n",
        "  return (mprime, bprime);"
      ],
      "execution_count": 5,
      "outputs": []
    },
    {
      "cell_type": "code",
      "metadata": {
        "id": "0sf9Ie_1_ygO"
      },
      "source": [
        "(A, model) = Setup();"
      ],
      "execution_count": 6,
      "outputs": []
    },
    {
      "cell_type": "code",
      "metadata": {
        "id": "BNyk3-FyDUR6"
      },
      "source": [
        "(t, c, m, b) = Encap(A, model, '/content/drive/MyDrive/Notebooks/face/input/1');"
      ],
      "execution_count": 7,
      "outputs": []
    },
    {
      "cell_type": "code",
      "metadata": {
        "id": "p-iAg5szrZ5A",
        "colab": {
          "base_uri": "https://localhost:8080/"
        },
        "outputId": "61491e7a-f6c1-4c8f-faa3-7e0919f7d2ca"
      },
      "source": [
        "b.reshape(512)"
      ],
      "execution_count": 8,
      "outputs": [
        {
          "output_type": "execute_result",
          "data": {
            "text/plain": [
              "array([0, 0, 0, 0, 0, 0, 0, 0, 0, 0, 1, 0, 0, 0, 0, 0, 0, 2, 0, 0, 0, 0,\n",
              "       0, 0, 0, 0, 0, 0, 0, 0, 0, 0, 0, 0, 0, 0, 0, 0, 1, 0, 0, 2, 1, 0,\n",
              "       0, 0, 0, 0, 0, 0, 0, 0, 1, 0, 1, 0, 0, 0, 0, 0, 0, 0, 0, 0, 0, 0,\n",
              "       0, 0, 0, 0, 0, 0, 0, 0, 0, 0, 0, 0, 0, 0, 0, 0, 0, 0, 0, 0, 0, 0,\n",
              "       0, 0, 0, 0, 1, 0, 0, 0, 0, 0, 0, 0, 0, 0, 0, 0, 0, 0, 0, 0, 0, 0,\n",
              "       0, 0, 0, 1, 0, 0, 0, 0, 0, 0, 0, 0, 0, 0, 0, 0, 0, 0, 0, 0, 0, 0,\n",
              "       0, 0, 0, 0, 0, 0, 0, 1, 0, 1, 0, 0, 0, 0, 0, 0, 0, 0, 0, 0, 0, 0,\n",
              "       0, 0, 1, 0, 0, 0, 0, 0, 0, 0, 0, 0, 0, 0, 0, 1, 0, 0, 0, 0, 0, 0,\n",
              "       0, 0, 0, 0, 0, 0, 0, 0, 0, 0, 0, 0, 0, 0, 1, 0, 0, 0, 0, 0, 1, 0,\n",
              "       0, 0, 2, 0, 0, 0, 0, 0, 0, 0, 0, 0, 0, 1, 0, 0, 0, 0, 0, 1, 0, 0,\n",
              "       0, 0, 0, 0, 0, 0, 0, 0, 0, 0, 0, 0, 0, 0, 0, 0, 0, 0, 0, 0, 0, 0,\n",
              "       0, 0, 0, 0, 0, 0, 0, 0, 0, 0, 0, 1, 0, 0, 1, 0, 0, 1, 0, 0, 0, 0,\n",
              "       0, 0, 0, 0, 0, 0, 0, 0, 1, 0, 0, 0, 0, 0, 1, 0, 0, 0, 0, 0, 0, 1,\n",
              "       0, 0, 1, 0, 0, 0, 0, 0, 0, 0, 2, 0, 0, 0, 0, 0, 0, 0, 0, 0, 0, 2,\n",
              "       0, 0, 0, 0, 0, 0, 0, 0, 0, 0, 6, 0, 0, 0, 0, 0, 0, 0, 0, 0, 0, 1,\n",
              "       0, 0, 0, 0, 0, 0, 0, 0, 0, 0, 0, 0, 0, 1, 0, 0, 0, 0, 0, 0, 0, 0,\n",
              "       0, 0, 0, 0, 0, 0, 0, 0, 0, 0, 0, 0, 0, 0, 0, 0, 0, 0, 0, 0, 0, 0,\n",
              "       0, 0, 0, 0, 0, 1, 1, 0, 0, 0, 2, 0, 0, 0, 0, 0, 0, 0, 0, 0, 0, 0,\n",
              "       0, 0, 0, 0, 3, 0, 0, 0, 0, 0, 0, 0, 0, 0, 0, 0, 0, 0, 1, 0, 0, 0,\n",
              "       0, 0, 0, 0, 0, 1, 0, 0, 0, 0, 0, 0, 0, 0, 0, 0, 0, 0, 0, 0, 0, 0,\n",
              "       0, 0, 0, 0, 0, 0, 0, 0, 0, 0, 0, 0, 0, 0, 0, 0, 0, 0, 4, 0, 0, 0,\n",
              "       0, 0, 0, 0, 0, 0, 0, 0, 0, 0, 0, 0, 0, 0, 0, 0, 0, 0, 0, 0, 0, 0,\n",
              "       0, 0, 0, 0, 0, 0, 0, 0, 0, 0, 0, 0, 0, 2, 0, 0, 0, 0, 0, 0, 0, 0,\n",
              "       0, 0, 0, 0, 0, 0])"
            ]
          },
          "metadata": {
            "tags": []
          },
          "execution_count": 8
        }
      ]
    },
    {
      "cell_type": "code",
      "metadata": {
        "id": "y-32IQ_VWhjn",
        "colab": {
          "base_uri": "https://localhost:8080/"
        },
        "outputId": "b2c703c0-67dd-4341-85b4-0777dee17af0"
      },
      "source": [
        "count = 0;\n",
        "for i in range(0,512):\n",
        "  if b[i] != 0:\n",
        "    count = count + 1;\n",
        "\n",
        "print(count)"
      ],
      "execution_count": 9,
      "outputs": [
        {
          "output_type": "stream",
          "text": [
            "38\n"
          ],
          "name": "stdout"
        }
      ]
    },
    {
      "cell_type": "code",
      "metadata": {
        "id": "1pxNNRd8OxAj",
        "outputId": "54e081e7-835b-4a77-b725-1baeb0d48f54",
        "colab": {
          "base_uri": "https://localhost:8080/"
        }
      },
      "source": [
        "for i in range(0,16):\n",
        "  (mprime, bprime)= Decap(A, model, t, c, '/content/drive/MyDrive/Notebooks/face/input/1/'+ str(i) + '.jpg');\n",
        "  print(np.sum(np.abs(m - mprime)))"
      ],
      "execution_count": null,
      "outputs": [
        {
          "output_type": "stream",
          "text": [
            "0\n",
            "0\n",
            "0\n",
            "0\n",
            "0\n",
            "0\n"
          ],
          "name": "stdout"
        }
      ]
    },
    {
      "cell_type": "code",
      "metadata": {
        "id": "bkP4i9ezGGVd"
      },
      "source": [
        " count = 0;\n",
        "for i in range(0,512):\n",
        "  if bprime[i] != 0:\n",
        "    count = count + 1;\n",
        "\n",
        "print(count)"
      ],
      "execution_count": null,
      "outputs": []
    },
    {
      "cell_type": "code",
      "metadata": {
        "id": "Bv7l18xLXdZu"
      },
      "source": [
        "count = 0;\n",
        "for i in range(0,512):\n",
        "  if (b[i] - bprime[i]) != 0:\n",
        "    count = count + 1;\n",
        "\n",
        "print(count)"
      ],
      "execution_count": null,
      "outputs": []
    },
    {
      "cell_type": "code",
      "metadata": {
        "id": "qQCP8zKyXddJ"
      },
      "source": [
        "for i in range(0,6):\n",
        "  (mprime, bprime) = Decap(A, model, t, c, '/content/drive/MyDrive/Notebooks/face/input/2/'+ str(i) + '.jpg');\n",
        "  print(np.sum(np.abs(m - mprime)))\n"
      ],
      "execution_count": null,
      "outputs": []
    },
    {
      "cell_type": "code",
      "metadata": {
        "id": "0h5VKzheMpc4"
      },
      "source": [
        "for i in range(0,10):\n",
        "  (mprime, bprime) = Decap(A, model, t, c, '/content/drive/MyDrive/Notebooks/face/input/3/'+ str(i) + '.jpg');\n",
        "  print(np.sum(np.abs(m - mprime)))"
      ],
      "execution_count": null,
      "outputs": []
    },
    {
      "cell_type": "code",
      "metadata": {
        "id": "Q-dR2A1uoXZQ"
      },
      "source": [
        "cc = np.remainder(np.matmul(A, b),PARAMS_Q) >> (PARAMS_LOGQ - 2);"
      ],
      "execution_count": 10,
      "outputs": []
    },
    {
      "cell_type": "code",
      "metadata": {
        "id": "DVsfUVGh3MMW",
        "outputId": "0b48fa69-6d38-4d33-a0cb-d2f12b4504ee",
        "colab": {
          "base_uri": "https://localhost:8080/"
        }
      },
      "source": [
        "cc"
      ],
      "execution_count": 11,
      "outputs": [
        {
          "output_type": "execute_result",
          "data": {
            "text/plain": [
              "array([[3],\n",
              "       [1],\n",
              "       [2],\n",
              "       ...,\n",
              "       [2],\n",
              "       [2],\n",
              "       [0]])"
            ]
          },
          "metadata": {
            "tags": []
          },
          "execution_count": 11
        }
      ]
    },
    {
      "cell_type": "code",
      "metadata": {
        "id": "pr3iDmSR357-",
        "outputId": "267c754a-c031-4cf1-e99f-e4e57e59093a",
        "colab": {
          "base_uri": "https://localhost:8080/"
        }
      },
      "source": [
        "np.histogram(cc, bins = np.arange(5))"
      ],
      "execution_count": 13,
      "outputs": [
        {
          "output_type": "execute_result",
          "data": {
            "text/plain": [
              "(array([542, 462, 512, 531]), array([0, 1, 2, 3, 4]))"
            ]
          },
          "metadata": {
            "tags": []
          },
          "execution_count": 13
        }
      ]
    },
    {
      "cell_type": "code",
      "metadata": {
        "id": "I68JLI115ft_"
      },
      "source": [
        ""
      ],
      "execution_count": null,
      "outputs": []
    }
  ]
}