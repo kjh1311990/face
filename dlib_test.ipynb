{
  "nbformat": 4,
  "nbformat_minor": 0,
  "metadata": {
    "colab": {
      "name": "dlib_test",
      "provenance": [],
      "authorship_tag": "ABX9TyNynZdevIY9VOQvVKKzAfrI",
      "include_colab_link": true
    },
    "kernelspec": {
      "name": "python3",
      "display_name": "Python 3"
    },
    "accelerator": "GPU"
  },
  "cells": [
    {
      "cell_type": "markdown",
      "metadata": {
        "id": "view-in-github",
        "colab_type": "text"
      },
      "source": [
        "<a href=\"https://colab.research.google.com/github/kjh1311990/face/blob/main/dlib_test.ipynb\" target=\"_parent\"><img src=\"https://colab.research.google.com/assets/colab-badge.svg\" alt=\"Open In Colab\"/></a>"
      ]
    },
    {
      "cell_type": "code",
      "metadata": {
        "colab": {
          "base_uri": "https://localhost:8080/"
        },
        "id": "l-8JI_wvWofq",
        "outputId": "e43770d1-c88e-49df-f83a-6fe9d8d5e1a4"
      },
      "source": [
        "from google.colab import drive\n",
        "drive.mount('/content/drive')"
      ],
      "execution_count": 78,
      "outputs": [
        {
          "output_type": "stream",
          "text": [
            "Drive already mounted at /content/drive; to attempt to forcibly remount, call drive.mount(\"/content/drive\", force_remount=True).\n"
          ],
          "name": "stdout"
        }
      ]
    },
    {
      "cell_type": "code",
      "metadata": {
        "id": "n1-ryLzUZTjL"
      },
      "source": [
        "import dlib\n",
        "import matplotlib.pyplot as plt\n",
        "import numpy as np"
      ],
      "execution_count": 79,
      "outputs": []
    },
    {
      "cell_type": "code",
      "metadata": {
        "id": "TNpp7FcWZxYT"
      },
      "source": [
        "detector = dlib.get_frontal_face_detector()\n",
        " \n",
        "sp = dlib.shape_predictor('/content/drive/MyDrive/Notebooks/shape_predictor_5_face_landmarks.dat')\n",
        "facerec = dlib.face_recognition_model_v1('/content/drive/MyDrive/Notebooks/dlib_face_recognition_resnet_model_v1.dat')"
      ],
      "execution_count": 80,
      "outputs": []
    },
    {
      "cell_type": "code",
      "metadata": {
        "id": "NmRyUGVsZ0ZK"
      },
      "source": [
        "img1_rep = np.zeros((5,128))\n",
        "img2_rep = np.zeros((5,128))\n",
        "\n",
        "Img1_rep = np.zeros((5,128))\n",
        "Img2_rep = np.zeros((5,128))\n",
        "\n",
        "for i in range(0,5):\n",
        "  img1 = dlib.load_rgb_image('/content/drive/MyDrive/Notebooks/face/input/1/' + str(i) + '.jpg')\n",
        "  img1_detection = detector(img1, 1)\n",
        "  img1_shape = sp(img1, img1_detection[0])\n",
        "  img1_aligned = dlib.get_face_chip(img1, img1_shape)\n",
        "  tmp = facerec.compute_face_descriptor(img1_aligned)\n",
        "  img1_rep[i] = np.array(tmp)\n",
        "\n",
        "  img1 = dlib.load_rgb_image('/content/drive/MyDrive/Notebooks/face/input/3/' + str(i) + '.jpg')\n",
        "  img1_detection = detector(img1, 1)\n",
        "  img1_shape = sp(img1, img1_detection[0])\n",
        "  img1_aligned = dlib.get_face_chip(img1, img1_shape)\n",
        "  tmp = facerec.compute_face_descriptor(img1_aligned)\n",
        "  img2_rep[i] = np.array(tmp)  "
      ],
      "execution_count": 100,
      "outputs": []
    },
    {
      "cell_type": "code",
      "metadata": {
        "id": "6SMchm4fajzk"
      },
      "source": [
        "t1 = img1_rep.max(axis=0) - img1_rep.min(axis=0)"
      ],
      "execution_count": 101,
      "outputs": []
    },
    {
      "cell_type": "code",
      "metadata": {
        "id": "6C0fByvxbfhs"
      },
      "source": [
        "for i in range(0,5):\n",
        "  for j in range(0,128):\n",
        "    Img1_rep[i][j] = img1_rep[i][j] / (4 * t1[j]) "
      ],
      "execution_count": 130,
      "outputs": []
    },
    {
      "cell_type": "code",
      "metadata": {
        "id": "BA5rJ-gqiPWW"
      },
      "source": [
        "for i in range(0,5):\n",
        "  for j in range(0,128):\n",
        "    Img2_rep[i][j] = img2_rep[i][j] / (4 * t1[j]) "
      ],
      "execution_count": 131,
      "outputs": []
    },
    {
      "cell_type": "code",
      "metadata": {
        "colab": {
          "base_uri": "https://localhost:8080/"
        },
        "id": "zAxTY8M4iGhe",
        "outputId": "327ed1ed-cd6f-4c76-b8a7-a9f5d2b029d6"
      },
      "source": [
        "img1_rep[0]"
      ],
      "execution_count": 132,
      "outputs": [
        {
          "output_type": "execute_result",
          "data": {
            "text/plain": [
              "array([-0.06291559,  0.05148215, -0.00347966,  0.00817019, -0.06519566,\n",
              "       -0.09239063, -0.02158191, -0.12839273,  0.11782277, -0.0942307 ,\n",
              "        0.18532132, -0.08314824, -0.20296691, -0.12079628, -0.04843768,\n",
              "        0.16994822, -0.12343431, -0.13511431, -0.06738358,  0.01905569,\n",
              "        0.1976378 ,  0.01160794, -0.01658015,  0.06463371, -0.11462639,\n",
              "       -0.29766667, -0.11916296, -0.08141525,  0.03104168, -0.05255121,\n",
              "       -0.02518215,  0.0343201 , -0.18216865, -0.08718809,  0.02841506,\n",
              "        0.04342654, -0.00536608, -0.05616228,  0.20817786, -0.00459168,\n",
              "       -0.23780635,  0.05905711,  0.01413532,  0.22668326,  0.15998876,\n",
              "        0.05715635,  0.04013925, -0.16620229,  0.15039174, -0.14860564,\n",
              "        0.03371716,  0.1633181 ,  0.10335921,  0.10371032, -0.00750391,\n",
              "       -0.10079902,  0.0715223 ,  0.08597122, -0.16365433,  0.0358147 ,\n",
              "        0.09752065, -0.1048957 , -0.01529935, -0.06324224,  0.16294204,\n",
              "       -0.02801612, -0.09390202, -0.15091734,  0.12855676, -0.16588721,\n",
              "       -0.08978518,  0.05610559, -0.14913853, -0.17168844, -0.31852165,\n",
              "        0.0089199 ,  0.40905216,  0.11917428, -0.23718229,  0.08146241,\n",
              "       -0.05910273,  0.02607661,  0.16902602,  0.13365604,  0.03926274,\n",
              "        0.01513755, -0.11352187,  0.01011575,  0.22588292, -0.09960298,\n",
              "       -0.0201725 ,  0.24019744,  0.03965852,  0.10005406,  0.03704279,\n",
              "        0.02018398, -0.05302446,  0.02901297, -0.0578184 ,  0.01143107,\n",
              "        0.08745561, -0.00107266,  0.01399406,  0.0823141 , -0.10019155,\n",
              "        0.18149345,  0.00168329,  0.08072712,  0.00784524, -0.00845697,\n",
              "       -0.13275775, -0.05392434,  0.10007051, -0.16807225,  0.21876895,\n",
              "        0.13655335,  0.02964468,  0.08272414,  0.10210841,  0.12043974,\n",
              "       -0.03637934, -0.0262061 , -0.23300019, -0.03972976,  0.14308572,\n",
              "        0.01225628,  0.09761017, -0.00726865])"
            ]
          },
          "metadata": {
            "tags": []
          },
          "execution_count": 132
        }
      ]
    },
    {
      "cell_type": "code",
      "metadata": {
        "colab": {
          "base_uri": "https://localhost:8080/"
        },
        "id": "TcH1ufmrciBv",
        "outputId": "231fe8b2-3d2d-41a7-9d81-e9b8ec5ccd57"
      },
      "source": [
        "Img1_rep[0].astype(int)"
      ],
      "execution_count": 133,
      "outputs": [
        {
          "output_type": "execute_result",
          "data": {
            "text/plain": [
              "array([ 0,  0,  0,  0, -1, -1,  0, -2,  0, -1,  3,  0, -2, -2,  0,  3, -1,\n",
              "       -2,  0,  0,  2,  0,  0,  1, -2, -3, -1, -1,  0,  0,  0,  0, -2,  0,\n",
              "        0,  0,  0,  0,  3,  0, -3,  0,  0,  7,  3,  0,  0, -3,  1, -1,  0,\n",
              "        2,  1,  1,  0,  0,  1,  0, -4,  0,  0, -2,  0,  0,  2,  0, -1, -2,\n",
              "        2, -4, -1,  1, -3, -4, -3,  0,  3,  1, -2,  1,  0,  0,  3,  2,  0,\n",
              "        0, -1,  0,  3, -4,  0,  3,  0,  1,  0,  0,  0,  0,  0,  0,  1,  0,\n",
              "        0,  1, -5,  1,  0,  1,  0,  0, -1,  0,  1, -2,  3,  1,  0,  1,  1,\n",
              "        1,  0,  0, -2,  0,  2,  0,  0,  0])"
            ]
          },
          "metadata": {
            "tags": []
          },
          "execution_count": 133
        }
      ]
    },
    {
      "cell_type": "code",
      "metadata": {
        "colab": {
          "base_uri": "https://localhost:8080/"
        },
        "id": "dNN4V0FacjqR",
        "outputId": "6a107c3c-26a5-4452-ccf0-e7e272efecc0"
      },
      "source": [
        "Img1_rep[1].astype(int)"
      ],
      "execution_count": 134,
      "outputs": [
        {
          "output_type": "execute_result",
          "data": {
            "text/plain": [
              "array([ 0,  0,  0,  0, -1, -1,  0, -2,  0, -1,  3,  0, -2, -2,  0,  3, -1,\n",
              "       -2,  0,  0,  2,  0,  0,  1, -2, -3, -1, -1,  0,  0,  0,  0, -2,  0,\n",
              "        0,  0,  0,  0,  3,  0, -3,  0,  0,  7,  3,  0,  0, -3,  1, -2,  0,\n",
              "        2,  1,  1,  0,  0,  1,  0, -4,  0,  0, -2,  0,  0,  2,  0, -1, -1,\n",
              "        2, -4, -1,  1, -3, -5, -3,  0,  4,  1, -2,  1,  0,  0,  3,  2,  0,\n",
              "        0, -1,  0,  3, -4,  0,  3,  0,  1,  0,  0,  0,  0,  0,  0,  1,  0,\n",
              "        0,  1, -5,  1,  0,  1,  0,  0, -1,  0,  1, -2,  3,  2,  0,  1,  1,\n",
              "        1,  0,  0, -2,  0,  2,  0,  0,  0])"
            ]
          },
          "metadata": {
            "tags": []
          },
          "execution_count": 134
        }
      ]
    },
    {
      "cell_type": "code",
      "metadata": {
        "colab": {
          "base_uri": "https://localhost:8080/"
        },
        "id": "Pr8nyz1RhfCc",
        "outputId": "2693ef36-fac7-4f7e-f65d-b80a60ef39e1"
      },
      "source": [
        "Img1_rep[0].astype(int) - Img1_rep[1].astype(int)"
      ],
      "execution_count": 135,
      "outputs": [
        {
          "output_type": "execute_result",
          "data": {
            "text/plain": [
              "array([ 0,  0,  0,  0,  0,  0,  0,  0,  0,  0,  0,  0,  0,  0,  0,  0,  0,\n",
              "        0,  0,  0,  0,  0,  0,  0,  0,  0,  0,  0,  0,  0,  0,  0,  0,  0,\n",
              "        0,  0,  0,  0,  0,  0,  0,  0,  0,  0,  0,  0,  0,  0,  0,  1,  0,\n",
              "        0,  0,  0,  0,  0,  0,  0,  0,  0,  0,  0,  0,  0,  0,  0,  0, -1,\n",
              "        0,  0,  0,  0,  0,  1,  0,  0, -1,  0,  0,  0,  0,  0,  0,  0,  0,\n",
              "        0,  0,  0,  0,  0,  0,  0,  0,  0,  0,  0,  0,  0,  0,  0,  0,  0,\n",
              "        0,  0,  0,  0,  0,  0,  0,  0,  0,  0,  0,  0,  0, -1,  0,  0,  0,\n",
              "        0,  0,  0,  0,  0,  0,  0,  0,  0])"
            ]
          },
          "metadata": {
            "tags": []
          },
          "execution_count": 135
        }
      ]
    },
    {
      "cell_type": "code",
      "metadata": {
        "colab": {
          "base_uri": "https://localhost:8080/"
        },
        "id": "GHihQPjYhhUt",
        "outputId": "11c3882d-36f7-49ae-f9d3-dbbdbbc0b305"
      },
      "source": [
        "for i in range(0,5):\n",
        "  for j in range(0,5):\n",
        "    print(i,j,np.sum(np.abs(Img1_rep[i].astype(int)-Img1_rep[j].astype(int))));"
      ],
      "execution_count": 136,
      "outputs": [
        {
          "output_type": "stream",
          "text": [
            "0 0 0\n",
            "0 1 5\n",
            "0 2 7\n",
            "0 3 8\n",
            "0 4 8\n",
            "1 0 5\n",
            "1 1 0\n",
            "1 2 8\n",
            "1 3 7\n",
            "1 4 9\n",
            "2 0 7\n",
            "2 1 8\n",
            "2 2 0\n",
            "2 3 7\n",
            "2 4 7\n",
            "3 0 8\n",
            "3 1 7\n",
            "3 2 7\n",
            "3 3 0\n",
            "3 4 8\n",
            "4 0 8\n",
            "4 1 9\n",
            "4 2 7\n",
            "4 3 8\n",
            "4 4 0\n"
          ],
          "name": "stdout"
        }
      ]
    },
    {
      "cell_type": "code",
      "metadata": {
        "colab": {
          "base_uri": "https://localhost:8080/"
        },
        "id": "XrWrUgCBhl0b",
        "outputId": "39587f17-cf2a-4fd5-a945-3cadd5a8c956"
      },
      "source": [
        "for i in range(0,5):\n",
        "  for j in range(0,5):\n",
        "    print(i,j,np.sum(np.abs(Img1_rep[i].astype(int)-Img2_rep[j].astype(int))));"
      ],
      "execution_count": 137,
      "outputs": [
        {
          "output_type": "stream",
          "text": [
            "0 0 51\n",
            "0 1 49\n",
            "0 2 52\n",
            "0 3 56\n",
            "0 4 46\n",
            "1 0 54\n",
            "1 1 52\n",
            "1 2 55\n",
            "1 3 55\n",
            "1 4 45\n",
            "2 0 52\n",
            "2 1 50\n",
            "2 2 53\n",
            "2 3 57\n",
            "2 4 47\n",
            "3 0 51\n",
            "3 1 49\n",
            "3 2 52\n",
            "3 3 54\n",
            "3 4 44\n",
            "4 0 55\n",
            "4 1 53\n",
            "4 2 56\n",
            "4 3 60\n",
            "4 4 50\n"
          ],
          "name": "stdout"
        }
      ]
    },
    {
      "cell_type": "code",
      "metadata": {
        "colab": {
          "base_uri": "https://localhost:8080/"
        },
        "id": "9-F_ZFIhhxnc",
        "outputId": "74acd49d-28b2-4821-8f22-d6728f49ab58"
      },
      "source": [
        "Img1_rep[0].astype(int) - Img2_rep[0].astype(int)"
      ],
      "execution_count": 110,
      "outputs": [
        {
          "output_type": "execute_result",
          "data": {
            "text/plain": [
              "array([ 1, -1,  0,  0,  1, -1,  0,  1,  1,  0, -1, -1,  0,  0,  0, -1,  1,\n",
              "        0,  0,  0,  2,  1,  0,  1,  0,  0,  0,  0, -1,  0,  2,  0,  0,  0,\n",
              "        0,  0,  1,  1,  2,  0,  0,  0,  0,  1,  0,  0,  0, -1,  0, -1,  0,\n",
              "        1,  0,  1,  0,  1,  1,  0, -2, -1,  0, -1,  0,  0, -1,  0,  0,  0,\n",
              "        0, -2,  0,  1,  0,  0, -1,  0,  0,  0, -1,  1,  0,  0,  2,  0,  0,\n",
              "        0,  0,  0,  1, -2,  0,  1,  1,  1,  0,  0,  1, -4,  0,  0,  0,  1,\n",
              "        0, -1,  1,  2,  0, -1,  0,  0,  0,  0,  1,  1, -1, -1,  0,  0, -1,\n",
              "        0,  0,  0,  0,  0,  1,  0,  1, -1])"
            ]
          },
          "metadata": {
            "tags": []
          },
          "execution_count": 110
        }
      ]
    },
    {
      "cell_type": "code",
      "metadata": {
        "colab": {
          "base_uri": "https://localhost:8080/"
        },
        "id": "h5Ld9B-oiVc5",
        "outputId": "aa4246fa-7fc8-4980-b32d-68c3e38959a3"
      },
      "source": [
        "Img2_rep[0].astype(int)"
      ],
      "execution_count": 111,
      "outputs": [
        {
          "output_type": "execute_result",
          "data": {
            "text/plain": [
              "array([-1,  1,  0,  0, -2, -1,  0, -4,  0, -1,  5,  0, -2, -3,  0,  5, -2,\n",
              "       -2,  0,  0,  1, -1,  0,  0, -3, -3, -1, -1,  1,  0, -2,  0, -3,  0,\n",
              "        0,  0, -1, -1,  2,  0, -3,  0,  0,  7,  3,  0,  0, -3,  1, -1,  0,\n",
              "        1,  1,  0,  0, -1,  0,  0, -3,  1,  0, -1,  0,  0,  3,  0, -1, -2,\n",
              "        2, -2, -1,  0, -3, -5, -3,  0,  4,  1, -2,  0,  0,  0,  2,  2,  0,\n",
              "        0, -1,  0,  3, -3,  0,  2, -1,  0,  0,  0, -1,  4,  0,  0,  1, -1,\n",
              "        0,  2, -7,  0,  0,  2,  0,  0, -2,  0,  1, -3,  4,  3,  0,  1,  2,\n",
              "        1,  0,  0, -2,  0,  1,  0,  0,  1])"
            ]
          },
          "metadata": {
            "tags": []
          },
          "execution_count": 111
        }
      ]
    },
    {
      "cell_type": "code",
      "metadata": {
        "colab": {
          "base_uri": "https://localhost:8080/"
        },
        "id": "KkZAUngpio1s",
        "outputId": "ccbadcf8-c88c-467c-e724-fb0f00ff83f3"
      },
      "source": [
        "Img2_rep[1].astype(int)"
      ],
      "execution_count": 112,
      "outputs": [
        {
          "output_type": "execute_result",
          "data": {
            "text/plain": [
              "array([ 0,  0,  0,  0, -2, -1,  0, -4,  0, -2,  5, -1, -2, -3,  0,  5, -2,\n",
              "       -2,  0,  0,  0, -1,  0,  0, -2, -3, -1, -1,  0,  0, -2,  0, -3,  0,\n",
              "        0,  0, -1, -1,  2,  0, -3,  0,  0,  7,  3,  0,  0, -3,  1, -1,  0,\n",
              "        1,  1,  0,  0, -1,  1,  0, -3,  0,  0, -1,  0,  0,  3,  0, -1, -2,\n",
              "        2, -2, -1,  0, -3, -4, -4,  0,  4,  1, -2,  0,  0,  0,  2,  2,  0,\n",
              "        0, -1,  0,  3, -3, -1,  2, -1,  0,  0,  0, -1,  3,  0,  0,  1, -1,\n",
              "        0,  2, -6,  0,  0,  2,  0,  0, -2, -1,  2, -3,  3,  3,  0,  1,  2,\n",
              "        2,  0,  0, -2,  0,  1,  0,  1,  1])"
            ]
          },
          "metadata": {
            "tags": []
          },
          "execution_count": 112
        }
      ]
    },
    {
      "cell_type": "code",
      "metadata": {
        "colab": {
          "base_uri": "https://localhost:8080/"
        },
        "id": "abfaRoiTiY2K",
        "outputId": "049fd5d5-44cf-4ab4-b38e-91efd1ec0d1d"
      },
      "source": [
        "Img1_rep[0].astype(int)"
      ],
      "execution_count": 93,
      "outputs": [
        {
          "output_type": "execute_result",
          "data": {
            "text/plain": [
              "array([ 0,  0,  0,  0, -1, -2,  0, -3,  1, -1,  4, -1, -2, -3,  0,  4, -1,\n",
              "       -2,  0,  0,  3,  0,  0,  1, -3, -3, -1, -1,  0,  0,  0,  0, -3,  0,\n",
              "        0,  0,  0,  0,  4,  0, -3,  0,  0,  8,  3,  0,  0, -4,  1, -2,  0,\n",
              "        2,  1,  1,  0,  0,  1,  0, -5,  0,  0, -2,  0,  0,  2,  0, -1, -2,\n",
              "        2, -4, -1,  1, -3, -5, -4,  0,  4,  1, -3,  1,  0,  0,  4,  2,  0,\n",
              "        0, -1,  0,  4, -5,  0,  3,  0,  1,  0,  0,  0,  0,  0,  0,  1,  0,\n",
              "        0,  1, -6,  2,  0,  1,  0,  0, -2,  0,  2, -2,  3,  2,  0,  1,  1,\n",
              "        1,  0,  0, -2,  0,  2,  0,  1,  0])"
            ]
          },
          "metadata": {
            "tags": []
          },
          "execution_count": 93
        }
      ]
    },
    {
      "cell_type": "code",
      "metadata": {
        "colab": {
          "base_uri": "https://localhost:8080/"
        },
        "id": "X2bqrsJaihNJ",
        "outputId": "1dd7a3c0-a502-4667-907d-42f49dda196d"
      },
      "source": [
        "Img2_rep[1].astype(int)"
      ],
      "execution_count": 96,
      "outputs": [
        {
          "output_type": "execute_result",
          "data": {
            "text/plain": [
              "array([ 0,  0,  0,  0, -1, -1,  0, -2,  0, -1,  4, -1, -2, -2,  0,  4, -1,\n",
              "       -2,  0,  0,  3,  0,  0,  1, -3, -3, -1, -1,  0,  0,  0,  0, -2,  0,\n",
              "        0,  0,  0,  0,  4,  0, -3,  0,  0,  8,  3,  0,  0, -4,  1, -2,  0,\n",
              "        3,  1,  1,  0,  0,  1,  0, -4,  0,  0, -2,  0,  0,  2,  0, -1, -2,\n",
              "        2, -4, -1,  1, -3, -5, -3,  0,  4,  1, -3,  1, -1,  0,  3,  2,  0,\n",
              "        0, -1,  0,  4, -5,  0,  3,  0,  1,  0,  0,  0,  0,  0,  0,  1,  0,\n",
              "        0,  1, -6,  2,  0,  2,  0,  0, -1,  0,  2, -2,  3,  2,  0,  1,  1,\n",
              "        1,  0,  0, -2,  0,  2,  0,  0,  0])"
            ]
          },
          "metadata": {
            "tags": []
          },
          "execution_count": 96
        }
      ]
    },
    {
      "cell_type": "code",
      "metadata": {
        "colab": {
          "base_uri": "https://localhost:8080/"
        },
        "id": "TpTyY4Zmiqzy",
        "outputId": "0a81441b-22b5-47a7-8074-2965c2c3d071"
      },
      "source": [
        "Img2_rep[1].astype(int) - Img2_rep[1].astype(int)"
      ],
      "execution_count": 97,
      "outputs": [
        {
          "output_type": "execute_result",
          "data": {
            "text/plain": [
              "array([0, 0, 0, 0, 0, 0, 0, 0, 0, 0, 0, 0, 0, 0, 0, 0, 0, 0, 0, 0, 0, 0,\n",
              "       0, 0, 0, 0, 0, 0, 0, 0, 0, 0, 0, 0, 0, 0, 0, 0, 0, 0, 0, 0, 0, 0,\n",
              "       0, 0, 0, 0, 0, 0, 0, 0, 0, 0, 0, 0, 0, 0, 0, 0, 0, 0, 0, 0, 0, 0,\n",
              "       0, 0, 0, 0, 0, 0, 0, 0, 0, 0, 0, 0, 0, 0, 0, 0, 0, 0, 0, 0, 0, 0,\n",
              "       0, 0, 0, 0, 0, 0, 0, 0, 0, 0, 0, 0, 0, 0, 0, 0, 0, 0, 0, 0, 0, 0,\n",
              "       0, 0, 0, 0, 0, 0, 0, 0, 0, 0, 0, 0, 0, 0, 0, 0, 0, 0])"
            ]
          },
          "metadata": {
            "tags": []
          },
          "execution_count": 97
        }
      ]
    },
    {
      "cell_type": "code",
      "metadata": {
        "colab": {
          "base_uri": "https://localhost:8080/"
        },
        "id": "18rvMZw6i0KZ",
        "outputId": "a17ae9f9-b469-4ba0-ded6-2c87865e01a3"
      },
      "source": [
        "img2_rep[1]"
      ],
      "execution_count": 98,
      "outputs": [
        {
          "output_type": "execute_result",
          "data": {
            "text/plain": [
              "array([-0.08045411,  0.03916463,  0.02300247,  0.00812719, -0.07048094,\n",
              "       -0.08218291, -0.01436749, -0.11938636,  0.09420578, -0.09716626,\n",
              "        0.19378974, -0.07937725, -0.19247314, -0.11784162, -0.04604971,\n",
              "        0.16508609, -0.12229471, -0.13877094, -0.06126897,  0.01901771,\n",
              "        0.18812175,  0.00204719, -0.02484917,  0.05419663, -0.10546223,\n",
              "       -0.2982834 , -0.11807749, -0.07980464,  0.03832312, -0.06778151,\n",
              "       -0.02743273,  0.03154368, -0.16490638, -0.04914998,  0.01550255,\n",
              "        0.04559701, -0.0063225 , -0.06576106,  0.20023485, -0.00746495,\n",
              "       -0.23522398,  0.06672215, -0.00923789,  0.22567056,  0.16701259,\n",
              "        0.05227448,  0.02771368, -0.16856331,  0.15687445, -0.16830818,\n",
              "        0.02812746,  0.17450875,  0.08712696,  0.10321584, -0.0116531 ,\n",
              "       -0.09064078,  0.07366025,  0.06300675, -0.16204968,  0.03070691,\n",
              "        0.08171227, -0.10188289, -0.00526488, -0.088994  ,  0.17284372,\n",
              "       -0.02091388, -0.11468953, -0.13409324,  0.12578076, -0.1562271 ,\n",
              "       -0.0809751 ,  0.06325262, -0.16135216, -0.17485061, -0.29610875,\n",
              "        0.02514778,  0.42529958,  0.12085928, -0.23279738,  0.07051726,\n",
              "       -0.07998865,  0.01895779,  0.1577066 ,  0.14551255,  0.03559428,\n",
              "        0.00080866, -0.10483947,  0.0180772 ,  0.22383296, -0.10274585,\n",
              "       -0.02056156,  0.24124846,  0.03481302,  0.11789853,  0.02191783,\n",
              "        0.0235125 , -0.03593158,  0.0293822 , -0.03663743,  0.01822137,\n",
              "        0.0768965 , -0.01359001,  0.01241906,  0.08728639, -0.09609033,\n",
              "        0.19465703,  0.00460239,  0.09250273,  0.01906668, -0.01820883,\n",
              "       -0.1211402 , -0.03938783,  0.09465218, -0.18819097,  0.22596696,\n",
              "        0.14548194,  0.04513963,  0.07633594,  0.09094564,  0.11644971,\n",
              "       -0.04539595, -0.03486259, -0.23045841, -0.02056875,  0.13928115,\n",
              "        0.00469452,  0.07588255, -0.00628044])"
            ]
          },
          "metadata": {
            "tags": []
          },
          "execution_count": 98
        }
      ]
    },
    {
      "cell_type": "code",
      "metadata": {
        "colab": {
          "base_uri": "https://localhost:8080/"
        },
        "id": "h5HZugrpi2OT",
        "outputId": "6d034301-e941-43bc-c514-788e7c75d9e8"
      },
      "source": [
        "img1_rep[1]"
      ],
      "execution_count": 99,
      "outputs": [
        {
          "output_type": "execute_result",
          "data": {
            "text/plain": [
              "array([-0.08045411,  0.03916463,  0.02300247,  0.00812719, -0.07048094,\n",
              "       -0.08218291, -0.01436749, -0.11938636,  0.09420578, -0.09716626,\n",
              "        0.19378974, -0.07937725, -0.19247314, -0.11784162, -0.04604971,\n",
              "        0.16508609, -0.12229471, -0.13877094, -0.06126897,  0.01901771,\n",
              "        0.18812175,  0.00204719, -0.02484917,  0.05419663, -0.10546223,\n",
              "       -0.2982834 , -0.11807749, -0.07980464,  0.03832312, -0.06778151,\n",
              "       -0.02743273,  0.03154368, -0.16490638, -0.04914998,  0.01550255,\n",
              "        0.04559701, -0.0063225 , -0.06576106,  0.20023485, -0.00746495,\n",
              "       -0.23522398,  0.06672215, -0.00923789,  0.22567056,  0.16701259,\n",
              "        0.05227448,  0.02771368, -0.16856331,  0.15687445, -0.16830818,\n",
              "        0.02812746,  0.17450875,  0.08712696,  0.10321584, -0.0116531 ,\n",
              "       -0.09064078,  0.07366025,  0.06300675, -0.16204968,  0.03070691,\n",
              "        0.08171227, -0.10188289, -0.00526488, -0.088994  ,  0.17284372,\n",
              "       -0.02091388, -0.11468953, -0.13409324,  0.12578076, -0.1562271 ,\n",
              "       -0.0809751 ,  0.06325262, -0.16135216, -0.17485061, -0.29610875,\n",
              "        0.02514778,  0.42529958,  0.12085928, -0.23279738,  0.07051726,\n",
              "       -0.07998865,  0.01895779,  0.1577066 ,  0.14551255,  0.03559428,\n",
              "        0.00080866, -0.10483947,  0.0180772 ,  0.22383296, -0.10274585,\n",
              "       -0.02056156,  0.24124846,  0.03481302,  0.11789853,  0.02191783,\n",
              "        0.0235125 , -0.03593158,  0.0293822 , -0.03663743,  0.01822137,\n",
              "        0.0768965 , -0.01359001,  0.01241906,  0.08728639, -0.09609033,\n",
              "        0.19465703,  0.00460239,  0.09250273,  0.01906668, -0.01820883,\n",
              "       -0.1211402 , -0.03938783,  0.09465218, -0.18819097,  0.22596696,\n",
              "        0.14548194,  0.04513963,  0.07633594,  0.09094564,  0.11644971,\n",
              "       -0.04539595, -0.03486259, -0.23045841, -0.02056875,  0.13928115,\n",
              "        0.00469452,  0.07588255, -0.00628044])"
            ]
          },
          "metadata": {
            "tags": []
          },
          "execution_count": 99
        }
      ]
    },
    {
      "cell_type": "code",
      "metadata": {
        "id": "kWlVGHahi3pE"
      },
      "source": [
        ""
      ],
      "execution_count": null,
      "outputs": []
    }
  ]
}